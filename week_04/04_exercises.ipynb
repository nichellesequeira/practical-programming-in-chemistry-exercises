{
 "cells": [
  {
   "cell_type": "markdown",
   "metadata": {},
   "source": [
    "# Week 4: Numerical operations, data handling, data visualization\n",
    "\n",
    "\n",
    "**Setup**: make sure you've completed the instructions in the README for this week!\n",
    "\n",
    "\n",
    "This exercise attempts to be a pedagogical introduction to some key libraries in\n",
    "scientific programming.  \n",
    "\n",
    "Unlike the wet lab, it is very hard to break things or blow things up in a notebook. To\n",
    "get the most of these coding exercises, try things out and experiment with the code!\n",
    "\n",
    "Learning some cool things usually starts with a question \n",
    "\n",
    "\n",
    "## 0. Introduction\n",
    "\n",
    "Numpy, pandas, and matplotlib are three of the most widely used libraries in the Python\n",
    "data science ecosystem. Each serves a distinct purpose in data manipulation, analysis,\n",
    "and visualization, making them indispensable tools for scientists, including those in\n",
    "the chemical sciences.\n",
    "\n",
    "* `numpy` is used for efficient array operations and matrix manipulation, and statistical\n",
    "functions.\n",
    "* `pandas` is used for making data tables, and reading, writing and manipulation from\n",
    "  them.\n",
    "* `matplotlib` is used for creating high quality plots and figures.\n",
    "\n",
    "\n",
    "Each will be covered in more detail below. But first, we need to import these modules.\n",
    "With `import x as y` below, we import the package `x` with an ***alias*** `y`. The\n",
    "aliases shown below are community conventions for these packages (i.e. `np` for numpy,\n",
    "`pd` for `pandas` and `plt` for matplotlib). \n",
    "\n",
    "These are important to be aware of, as oftentimes help pages online (for instance, if\n",
    "you are trying to find a solution to a problem on Stack Exchange) may use these\n",
    "aliases without explanation."
   ]
  },
  {
   "cell_type": "code",
   "execution_count": 1,
   "metadata": {},
   "outputs": [],
   "source": [
    "import matplotlib.pyplot as plt\n",
    "import numpy as np\n",
    "import pandas as pd"
   ]
  },
  {
   "cell_type": "markdown",
   "metadata": {},
   "source": [
    "**Note:** if you get a `ModuleNotFound` error, make sure you have gone through this\n",
    "week's README first!"
   ]
  },
  {
   "cell_type": "markdown",
   "metadata": {},
   "source": [
    "## 1. Numerical operations with `numpy`\n",
    "\n",
    "**What is is**: Numpy (Numerical Python) is a library for numerical computing in Python.\n",
    "It provides support for large, multi-dimensional arrays and matrices, along with a\n",
    "collection of mathematical functions to operate on these arrays efficiently.\n",
    "\n",
    "**Why it's used**: Numpy is fundamental for scientific computing due to its powerful\n",
    "data structures, which enable high-performance calculations and data analysis. It serves\n",
    "as the backbone for many other Python data analysis libraries, including pandas and many\n",
    "machine learning frameworks.\n",
    "\n",
    "**Usefulness in Chemical Science**: In chemistry, numpy is essential for handling\n",
    "numerical data such as molecular structures, quantum mechanical properties, and large\n",
    "datasets generated from simulations or experimental measurements. Its efficiency in\n",
    "performing vectorized operations makes it ideal for computational chemistry tasks,\n",
    "including molecular dynamics simulations and numerical analysis."
   ]
  },
  {
   "cell_type": "markdown",
   "metadata": {},
   "source": [
    "### Vectorized operations: faster than `for` loops\n",
    "\n",
    "In previous exercises, you were introduced to for loops as a way to repeatedly execute a\n",
    "block of code for a specified number of times or over a sequence. NumPy operations allow\n",
    "for vectorized processing of data arrays, often replacing the need for for loops with\n",
    "more efficient and concise array-based calculations. They work by ***parallelizing**\n",
    "operations.\n",
    "\n",
    "**Introduction to `%%timeit`**: The `%%timeit` magic command in Jupyter Notebooks is\n",
    "used to measure the execution time of a code block. It runs the code several times in a\n",
    "loop to get an accurate average time, helping you understand the performance of your\n",
    "code. This is particularly useful when comparing the speed of different approaches to\n",
    "solving the same problem.\n",
    "\n",
    "Let's compare the time it takes to sum elements in a list, with for-loops versus\n",
    "`numpy`.\n",
    "\n",
    "First, create a large list as the following, which gives a list of the form `[0, 1, ...,\n",
    "999998, 999999]"
   ]
  },
  {
   "cell_type": "code",
   "execution_count": 2,
   "metadata": {},
   "outputs": [
    {
     "name": "stdout",
     "output_type": "stream",
     "text": [
      "[0, 1, 2, 3, 4]\n",
      "[999995, 999996, 999997, 999998, 999999]\n"
     ]
    }
   ],
   "source": [
    "num_elements = 1000000\n",
    "large_list = list(range(num_elements))\n",
    "\n",
    "print(large_list[:5])  # list indexing as usual\n",
    "print(large_list[-5:])"
   ]
  },
  {
   "cell_type": "markdown",
   "metadata": {},
   "source": [
    "Create functions to sum the elements in the list. For the `numpy` version, we use the\n",
    "function `np.sum` to sum the elements in the list. When using a function from an\n",
    "external module, it is a good idea to read the documentation to understand what it does.\n",
    "\n",
    "In jupyter notebooks, you can write the name of the function followed by `?` to print\n",
    "the documentation. There's a lot going here, but the important part is the signature and\n",
    "the description:\n",
    "```\n",
    "Signature:      \n",
    "np.sum(\n",
    "    a,\n",
    "    axis=None,\n",
    "    dtype=None,\n",
    "    out=None,\n",
    "    keepdims=<no value>,\n",
    "    initial=<no value>,\n",
    "    where=<no value>,\n",
    ")\n",
    "...\n",
    "Sum of array elements over a given axis.\n",
    "```\n",
    "\n",
    "You can also find the docs online. Google: \"numpy sum\" and navigate to (hopefully) the\n",
    "top result, i.e. https://numpy.org/doc/stable/reference/generated/numpy.sum.html"
   ]
  },
  {
   "cell_type": "code",
   "execution_count": 3,
   "metadata": {},
   "outputs": [
    {
     "data": {
      "text/plain": [
       "\u001b[1;31mSignature:\u001b[0m\n",
       "\u001b[0mnp\u001b[0m\u001b[1;33m.\u001b[0m\u001b[0msum\u001b[0m\u001b[1;33m(\u001b[0m\u001b[1;33m\n",
       "\u001b[0m    \u001b[0ma\u001b[0m\u001b[1;33m,\u001b[0m\u001b[1;33m\n",
       "\u001b[0m    \u001b[0maxis\u001b[0m\u001b[1;33m=\u001b[0m\u001b[1;32mNone\u001b[0m\u001b[1;33m,\u001b[0m\u001b[1;33m\n",
       "\u001b[0m    \u001b[0mdtype\u001b[0m\u001b[1;33m=\u001b[0m\u001b[1;32mNone\u001b[0m\u001b[1;33m,\u001b[0m\u001b[1;33m\n",
       "\u001b[0m    \u001b[0mout\u001b[0m\u001b[1;33m=\u001b[0m\u001b[1;32mNone\u001b[0m\u001b[1;33m,\u001b[0m\u001b[1;33m\n",
       "\u001b[0m    \u001b[0mkeepdims\u001b[0m\u001b[1;33m=\u001b[0m\u001b[1;33m<\u001b[0m\u001b[0mno\u001b[0m \u001b[0mvalue\u001b[0m\u001b[1;33m>\u001b[0m\u001b[1;33m,\u001b[0m\u001b[1;33m\n",
       "\u001b[0m    \u001b[0minitial\u001b[0m\u001b[1;33m=\u001b[0m\u001b[1;33m<\u001b[0m\u001b[0mno\u001b[0m \u001b[0mvalue\u001b[0m\u001b[1;33m>\u001b[0m\u001b[1;33m,\u001b[0m\u001b[1;33m\n",
       "\u001b[0m    \u001b[0mwhere\u001b[0m\u001b[1;33m=\u001b[0m\u001b[1;33m<\u001b[0m\u001b[0mno\u001b[0m \u001b[0mvalue\u001b[0m\u001b[1;33m>\u001b[0m\u001b[1;33m,\u001b[0m\u001b[1;33m\n",
       "\u001b[0m\u001b[1;33m)\u001b[0m\u001b[1;33m\u001b[0m\u001b[1;33m\u001b[0m\u001b[0m\n",
       "\u001b[1;31mDocstring:\u001b[0m\n",
       "Sum of array elements over a given axis.\n",
       "\n",
       "Parameters\n",
       "----------\n",
       "a : array_like\n",
       "    Elements to sum.\n",
       "axis : None or int or tuple of ints, optional\n",
       "    Axis or axes along which a sum is performed.  The default,\n",
       "    axis=None, will sum all of the elements of the input array.  If\n",
       "    axis is negative it counts from the last to the first axis.\n",
       "\n",
       "    .. versionadded:: 1.7.0\n",
       "\n",
       "    If axis is a tuple of ints, a sum is performed on all of the axes\n",
       "    specified in the tuple instead of a single axis or all the axes as\n",
       "    before.\n",
       "dtype : dtype, optional\n",
       "    The type of the returned array and of the accumulator in which the\n",
       "    elements are summed.  The dtype of `a` is used by default unless `a`\n",
       "    has an integer dtype of less precision than the default platform\n",
       "    integer.  In that case, if `a` is signed then the platform integer\n",
       "    is used while if `a` is unsigned then an unsigned integer of the\n",
       "    same precision as the platform integer is used.\n",
       "out : ndarray, optional\n",
       "    Alternative output array in which to place the result. It must have\n",
       "    the same shape as the expected output, but the type of the output\n",
       "    values will be cast if necessary.\n",
       "keepdims : bool, optional\n",
       "    If this is set to True, the axes which are reduced are left\n",
       "    in the result as dimensions with size one. With this option,\n",
       "    the result will broadcast correctly against the input array.\n",
       "\n",
       "    If the default value is passed, then `keepdims` will not be\n",
       "    passed through to the `sum` method of sub-classes of\n",
       "    `ndarray`, however any non-default value will be.  If the\n",
       "    sub-class' method does not implement `keepdims` any\n",
       "    exceptions will be raised.\n",
       "initial : scalar, optional\n",
       "    Starting value for the sum. See `~numpy.ufunc.reduce` for details.\n",
       "\n",
       "    .. versionadded:: 1.15.0\n",
       "\n",
       "where : array_like of bool, optional\n",
       "    Elements to include in the sum. See `~numpy.ufunc.reduce` for details.\n",
       "\n",
       "    .. versionadded:: 1.17.0\n",
       "\n",
       "Returns\n",
       "-------\n",
       "sum_along_axis : ndarray\n",
       "    An array with the same shape as `a`, with the specified\n",
       "    axis removed.   If `a` is a 0-d array, or if `axis` is None, a scalar\n",
       "    is returned.  If an output array is specified, a reference to\n",
       "    `out` is returned.\n",
       "\n",
       "See Also\n",
       "--------\n",
       "ndarray.sum : Equivalent method.\n",
       "\n",
       "add.reduce : Equivalent functionality of `add`.\n",
       "\n",
       "cumsum : Cumulative sum of array elements.\n",
       "\n",
       "trapz : Integration of array values using the composite trapezoidal rule.\n",
       "\n",
       "mean, average\n",
       "\n",
       "Notes\n",
       "-----\n",
       "Arithmetic is modular when using integer types, and no error is\n",
       "raised on overflow.\n",
       "\n",
       "The sum of an empty array is the neutral element 0:\n",
       "\n",
       ">>> np.sum([])\n",
       "0.0\n",
       "\n",
       "For floating point numbers the numerical precision of sum (and\n",
       "``np.add.reduce``) is in general limited by directly adding each number\n",
       "individually to the result causing rounding errors in every step.\n",
       "However, often numpy will use a  numerically better approach (partial\n",
       "pairwise summation) leading to improved precision in many use-cases.\n",
       "This improved precision is always provided when no ``axis`` is given.\n",
       "When ``axis`` is given, it will depend on which axis is summed.\n",
       "Technically, to provide the best speed possible, the improved precision\n",
       "is only used when the summation is along the fast axis in memory.\n",
       "Note that the exact precision may vary depending on other parameters.\n",
       "In contrast to NumPy, Python's ``math.fsum`` function uses a slower but\n",
       "more precise approach to summation.\n",
       "Especially when summing a large number of lower precision floating point\n",
       "numbers, such as ``float32``, numerical errors can become significant.\n",
       "In such cases it can be advisable to use `dtype=\"float64\"` to use a higher\n",
       "precision for the output.\n",
       "\n",
       "Examples\n",
       "--------\n",
       ">>> np.sum([0.5, 1.5])\n",
       "2.0\n",
       ">>> np.sum([0.5, 0.7, 0.2, 1.5], dtype=np.int32)\n",
       "1\n",
       ">>> np.sum([[0, 1], [0, 5]])\n",
       "6\n",
       ">>> np.sum([[0, 1], [0, 5]], axis=0)\n",
       "array([0, 6])\n",
       ">>> np.sum([[0, 1], [0, 5]], axis=1)\n",
       "array([1, 5])\n",
       ">>> np.sum([[0, 1], [np.nan, 5]], where=[False, True], axis=1)\n",
       "array([1., 5.])\n",
       "\n",
       "If the accumulator is too small, overflow occurs:\n",
       "\n",
       ">>> np.ones(128, dtype=np.int8).sum(dtype=np.int8)\n",
       "-128\n",
       "\n",
       "You can also start the sum with a value other than zero:\n",
       "\n",
       ">>> np.sum([10], initial=5)\n",
       "15\n",
       "\u001b[1;31mFile:\u001b[0m      c:\\users\\nichelle sequeira\\.conda\\envs\\ppchem\\lib\\site-packages\\numpy\\core\\fromnumeric.py\n",
       "\u001b[1;31mType:\u001b[0m      function"
      ]
     },
     "metadata": {},
     "output_type": "display_data"
    }
   ],
   "source": [
    "np.sum?"
   ]
  },
  {
   "cell_type": "code",
   "execution_count": 4,
   "metadata": {},
   "outputs": [],
   "source": [
    "# Python for loops\n",
    "def sum_python_loop(data) -> float:\n",
    "    \"\"\"Sum the elements in `data` using a for loop\"\"\"\n",
    "    total = 0\n",
    "    for x in data:\n",
    "        total += x\n",
    "    return total\n",
    "\n",
    "\n",
    "# Numpy sum\n",
    "def sum_numpy(data) -> float:\n",
    "    \"\"\"Sum the elements in `data` using numpy\"\"\"\n",
    "    return np.sum(data)"
   ]
  },
  {
   "cell_type": "markdown",
   "metadata": {},
   "source": [
    "Now uncomment the cells below and run them. What do you notice about the timings?"
   ]
  },
  {
   "cell_type": "code",
   "execution_count": 6,
   "metadata": {},
   "outputs": [
    {
     "name": "stdout",
     "output_type": "stream",
     "text": [
      "119 ms ± 5.93 ms per loop (mean ± std. dev. of 7 runs, 10 loops each)\n"
     ]
    }
   ],
   "source": [
    "%%timeit\n",
    "sum_python_loop(large_list)"
   ]
  },
  {
   "cell_type": "code",
   "execution_count": 11,
   "metadata": {},
   "outputs": [
    {
     "name": "stdout",
     "output_type": "stream",
     "text": [
      "177 ms ± 4.25 ms per loop (mean ± std. dev. of 7 runs, 10 loops each)\n"
     ]
    }
   ],
   "source": [
    "%%timeit\n",
    "sum_numpy(large_list)"
   ]
  },
  {
   "cell_type": "markdown",
   "metadata": {},
   "source": [
    "Hmmm, it appears that the Python for loop is faster here! Why? Aren't vectorized\n",
    "operations supposed to be quicker than for loops?\n",
    "\n",
    "Let's try again, but instead of summing elements in a list let's store our data in a\n",
    "numpy `array` instead. Here we used the `np.arange` function to generate an array of\n",
    "integers in the range `0, ... (n_elements - 1)`"
   ]
  },
  {
   "cell_type": "code",
   "execution_count": 8,
   "metadata": {},
   "outputs": [
    {
     "name": "stdout",
     "output_type": "stream",
     "text": [
      "[0 1 2 3 4]\n",
      "[999995 999996 999997 999998 999999]\n"
     ]
    }
   ],
   "source": [
    "large_array = np.arange(num_elements)\n",
    "\n",
    "print(large_array[:5])  # array indexing just like list indexing\n",
    "print(large_array[-5:])"
   ]
  },
  {
   "cell_type": "code",
   "execution_count": 9,
   "metadata": {},
   "outputs": [
    {
     "name": "stderr",
     "output_type": "stream",
     "text": [
      "C:\\Users\\Nichelle Sequeira\\AppData\\Local\\Temp\\ipykernel_8524\\2873618824.py:6: RuntimeWarning: overflow encountered in long_scalars\n",
      "  total += x\n"
     ]
    },
    {
     "name": "stdout",
     "output_type": "stream",
     "text": [
      "265 ms ± 4.07 ms per loop (mean ± std. dev. of 7 runs, 1 loop each)\n"
     ]
    }
   ],
   "source": [
    "%%timeit\n",
    "sum_python_loop(large_array)"
   ]
  },
  {
   "cell_type": "code",
   "execution_count": 10,
   "metadata": {},
   "outputs": [
    {
     "name": "stdout",
     "output_type": "stream",
     "text": [
      "828 µs ± 14.4 µs per loop (mean ± std. dev. of 7 runs, 1,000 loops each)\n"
     ]
    }
   ],
   "source": [
    "%%timeit\n",
    "sum_numpy(large_array)"
   ]
  },
  {
   "cell_type": "markdown",
   "metadata": {},
   "source": [
    "Much better!\n",
    "\n",
    "In the first example, the `np.sum` function first converts the list in `large_list` to a\n",
    "numpy `array`, which has a large associated overhead cost. This makes the timings\n",
    "comparable between the for loop approach and the numpy approach. However, by first\n",
    "storing our data in a `np.array` in the second example, we gain access to the efficient\n",
    "array operations in `numpy`. If we store and pass around data in numpy arrays in all of\n",
    "our programs, we only have to consider the overhead costs once.\n",
    "\n",
    "In general, Python lists are versatile and useful: they can be dynamically-sized and\n",
    "collect together elements with different data types.\n",
    "\n",
    "However, if we are dealing with data whose size we know, and whose data types are\n",
    "homogenous (in this case `int`), using instead a NumPy array will give us far enhanced\n",
    "performance in numerical computations versus for loops. For specific applications in\n",
    "chemistry that are computation-intensive, like data analysis, visualization, and machine\n",
    "learning, we often want to work with arrays.\n",
    "\n",
    "Let's explore more examples of array-based operations with numpy.\n",
    "\n",
    "\n",
    "### Summing lists / arrays\n",
    "\n",
    "Let's create two lists of the same size and sum them element-wise"
   ]
  },
  {
   "cell_type": "code",
   "execution_count": 12,
   "metadata": {},
   "outputs": [],
   "source": [
    "list_a = list(range(1000000))\n",
    "list_b = list(range(1, 1000001))\n",
    "\n",
    "def add_python_loop(list1: list, list2: list) -> list:\n",
    "    return [x + y for x, y in zip(list1, list2)]"
   ]
  },
  {
   "cell_type": "code",
   "execution_count": 13,
   "metadata": {},
   "outputs": [
    {
     "name": "stdout",
     "output_type": "stream",
     "text": [
      "[1, 3, 5, 7, 9, 11, 13, 15, 17, 19]\n"
     ]
    }
   ],
   "source": [
    "# See what the function returns\n",
    "new_list = add_python_loop(list_a, list_b)\n",
    "print(new_list[:10])"
   ]
  },
  {
   "cell_type": "code",
   "execution_count": 14,
   "metadata": {},
   "outputs": [
    {
     "name": "stdout",
     "output_type": "stream",
     "text": [
      "262 ms ± 20.4 ms per loop (mean ± std. dev. of 7 runs, 1 loop each)\n"
     ]
    }
   ],
   "source": [
    "%%timeit  # now time it\n",
    "add_python_loop(list_a, list_b)"
   ]
  },
  {
   "cell_type": "code",
   "execution_count": 15,
   "metadata": {},
   "outputs": [],
   "source": [
    "array_a = np.arange(1000000)  # integers from 0 to 999999\n",
    "array_b = np.arange(1, 1000001)  # integers from 1 to 1000000\n",
    "\n",
    "def add_numpy_arrays(array_1: np.ndarray, array_2: np.ndarray) -> np.ndarray:\n",
    "    return array_1 + array_2  # you can just use the + operator here!"
   ]
  },
  {
   "cell_type": "code",
   "execution_count": 16,
   "metadata": {},
   "outputs": [
    {
     "name": "stdout",
     "output_type": "stream",
     "text": [
      "[ 1  3  5  7  9 11 13 15 17 19]\n",
      "(1000000,) (1000000,) (1000000,)\n"
     ]
    }
   ],
   "source": [
    "# See what the function returns\n",
    "new_array = add_numpy_arrays(array_a, array_b)\n",
    "print(new_array[:10])\n",
    "\n",
    "# Use the `.shape` attribute to see the shapes of the arrays\n",
    "print(array_a.shape, array_b.shape, new_array.shape)"
   ]
  },
  {
   "cell_type": "code",
   "execution_count": 17,
   "metadata": {},
   "outputs": [
    {
     "name": "stdout",
     "output_type": "stream",
     "text": [
      "3.32 ms ± 231 µs per loop (mean ± std. dev. of 7 runs, 100 loops each)\n"
     ]
    }
   ],
   "source": [
    "%%timeit  # now time it\n",
    "add_numpy_arrays(array_a, array_b)"
   ]
  },
  {
   "cell_type": "markdown",
   "metadata": {},
   "source": [
    "### Initializing numpy arrays\n",
    "\n",
    "In NumPy, multi-dimensional arrays (also known as ndarrays) are the foundation for most\n",
    "of the library's operations, allowing you to efficiently store and manipulate data\n",
    "across multiple dimensions. Creating multi-dimensional arrays in NumPy is\n",
    "straightforward, enabling the handling of complex data structures like matrices for\n",
    "linear algebra, tensors for machine learning, or grids for scientific computing.\n",
    "\n",
    "You can create multi-dimensional arrays in NumPy using various methods, including\n",
    "np.array, np.zeros, np.ones, and np.arange, among others. Here are some examples to get\n",
    "you started:"
   ]
  },
  {
   "cell_type": "code",
   "execution_count": 18,
   "metadata": {},
   "outputs": [
    {
     "name": "stdout",
     "output_type": "stream",
     "text": [
      "[[1 2 3]\n",
      " [4 5 6]]\n",
      "[[0. 0. 0.]\n",
      " [0. 0. 0.]]\n",
      "[[[1. 1. 1.]\n",
      "  [1. 1. 1.]\n",
      "  [1. 1. 1.]]\n",
      "\n",
      " [[1. 1. 1.]\n",
      "  [1. 1. 1.]\n",
      "  [1. 1. 1.]]\n",
      "\n",
      " [[1. 1. 1.]\n",
      "  [1. 1. 1.]\n",
      "  [1. 1. 1.]]]\n",
      "[[ 0  1  2  3]\n",
      " [ 4  5  6  7]\n",
      " [ 8  9 10 11]]\n"
     ]
    }
   ],
   "source": [
    "# Create a 2D array (matrix)\n",
    "matrix = np.array([[1, 2, 3], [4, 5, 6]])\n",
    "print(matrix)\n",
    "\n",
    "# Create a 2x3 array of zeros\n",
    "zeros_array = np.zeros((2, 3))\n",
    "print(zeros_array)\n",
    "\n",
    "# Create a 3x3x3 array of ones\n",
    "ones_array = np.ones((3, 3, 3))\n",
    "print(ones_array)\n",
    "\n",
    "# Create a 3x4 array with a range of numbers\n",
    "range_array = np.arange(12).reshape(3, 4)\n",
    "print(range_array)"
   ]
  },
  {
   "cell_type": "markdown",
   "metadata": {},
   "source": [
    "Often, you'll need to reshape an array into a different dimension. This is done using\n",
    "the .reshape() method, which allows you to specify the new shape as long as the total\n",
    "number of elements remains the same."
   ]
  },
  {
   "cell_type": "code",
   "execution_count": 19,
   "metadata": {},
   "outputs": [
    {
     "name": "stdout",
     "output_type": "stream",
     "text": [
      "[0 1 2 3 4 5]\n",
      "[[0 1 2]\n",
      " [3 4 5]]\n"
     ]
    }
   ],
   "source": [
    "# Reshape a 1D array into a 2D array\n",
    "one_d_array = np.arange(6)\n",
    "two_d_array = one_d_array.reshape((2, 3))\n",
    "print(one_d_array)\n",
    "print(two_d_array)"
   ]
  },
  {
   "cell_type": "markdown",
   "metadata": {},
   "source": [
    "### Reading from file into numpy arrays\n",
    "\n",
    "To illustrate how to read chemical data from a file using `np.loadtxt`, let's consider a\n",
    "simple example where we have a file containing molecular weights of several compounds,\n",
    "stored in the file \"molecular_weights.txt\". \n",
    "\n",
    "The data file is organized with the name of the compound in one column and its molecular\n",
    "weight in the other. For this example, let's assume we are only interested in the\n",
    "numerical data (molecular weights) and that our data file is structured with comments\n",
    "marked by \"#\" and values separated by commas."
   ]
  },
  {
   "cell_type": "code",
   "execution_count": 20,
   "metadata": {},
   "outputs": [
    {
     "ename": "ValueError",
     "evalue": "could not convert string to float: 'Water'",
     "output_type": "error",
     "traceback": [
      "\u001b[1;31m---------------------------------------------------------------------------\u001b[0m",
      "\u001b[1;31mValueError\u001b[0m                                Traceback (most recent call last)",
      "Cell \u001b[1;32mIn[20], line 7\u001b[0m\n\u001b[0;32m      2\u001b[0m file_path \u001b[38;5;241m=\u001b[39m \u001b[38;5;124m'\u001b[39m\u001b[38;5;124mmolecular_data.txt\u001b[39m\u001b[38;5;124m'\u001b[39m\n\u001b[0;32m      4\u001b[0m \u001b[38;5;66;03m# Note that if we try to load the entire file into a single array, we'll get an error as\u001b[39;00m\n\u001b[0;32m      5\u001b[0m \u001b[38;5;66;03m# the file contains both strings and floats. Here, we use delimiter=',' to handle the\u001b[39;00m\n\u001b[0;32m      6\u001b[0m \u001b[38;5;66;03m# comma-separated values\u001b[39;00m\n\u001b[1;32m----> 7\u001b[0m \u001b[43mnp\u001b[49m\u001b[38;5;241;43m.\u001b[39;49m\u001b[43mloadtxt\u001b[49m\u001b[43m(\u001b[49m\u001b[43mfile_path\u001b[49m\u001b[43m,\u001b[49m\u001b[43m \u001b[49m\u001b[43mdelimiter\u001b[49m\u001b[38;5;241;43m=\u001b[39;49m\u001b[38;5;124;43m'\u001b[39;49m\u001b[38;5;124;43m,\u001b[39;49m\u001b[38;5;124;43m'\u001b[39;49m\u001b[43m,\u001b[49m\u001b[43m \u001b[49m\u001b[43mskiprows\u001b[49m\u001b[38;5;241;43m=\u001b[39;49m\u001b[38;5;241;43m1\u001b[39;49m\u001b[43m)\u001b[49m\n",
      "File \u001b[1;32m~\\.conda\\envs\\ppchem\\lib\\site-packages\\numpy\\lib\\npyio.py:1163\u001b[0m, in \u001b[0;36mloadtxt\u001b[1;34m(fname, dtype, comments, delimiter, converters, skiprows, usecols, unpack, ndmin, encoding, max_rows, like)\u001b[0m\n\u001b[0;32m   1159\u001b[0m         \u001b[38;5;28;01mraise\u001b[39;00m \u001b[38;5;167;01mValueError\u001b[39;00m(\n\u001b[0;32m   1160\u001b[0m             \u001b[38;5;124mf\u001b[39m\u001b[38;5;124m\"\u001b[39m\u001b[38;5;124mWrong number of columns at line \u001b[39m\u001b[38;5;132;01m{\u001b[39;00mlineno\u001b[38;5;132;01m}\u001b[39;00m\u001b[38;5;124m\"\u001b[39m)\n\u001b[0;32m   1161\u001b[0m     \u001b[38;5;66;03m# Convert each value according to its column, then pack it\u001b[39;00m\n\u001b[0;32m   1162\u001b[0m     \u001b[38;5;66;03m# according to the dtype's nesting, and store it.\u001b[39;00m\n\u001b[1;32m-> 1163\u001b[0m     chunk\u001b[38;5;241m.\u001b[39mappend(packer(\u001b[43mconvert_row\u001b[49m\u001b[43m(\u001b[49m\u001b[43mwords\u001b[49m\u001b[43m)\u001b[49m))\n\u001b[0;32m   1164\u001b[0m \u001b[38;5;28;01mif\u001b[39;00m \u001b[38;5;129;01mnot\u001b[39;00m chunk:  \u001b[38;5;66;03m# The islice is empty, i.e. we're done.\u001b[39;00m\n\u001b[0;32m   1165\u001b[0m     \u001b[38;5;28;01mbreak\u001b[39;00m\n",
      "File \u001b[1;32m~\\.conda\\envs\\ppchem\\lib\\site-packages\\numpy\\lib\\npyio.py:1142\u001b[0m, in \u001b[0;36mloadtxt.<locals>.convert_row\u001b[1;34m(vals, _conv)\u001b[0m\n\u001b[0;32m   1141\u001b[0m \u001b[38;5;28;01mdef\u001b[39;00m \u001b[38;5;21mconvert_row\u001b[39m(vals, _conv\u001b[38;5;241m=\u001b[39mconverters[\u001b[38;5;241m0\u001b[39m]):\n\u001b[1;32m-> 1142\u001b[0m     \u001b[38;5;28;01mreturn\u001b[39;00m [\u001b[38;5;241m*\u001b[39m\u001b[38;5;28mmap\u001b[39m(_conv, vals)]\n",
      "File \u001b[1;32m~\\.conda\\envs\\ppchem\\lib\\site-packages\\numpy\\lib\\npyio.py:725\u001b[0m, in \u001b[0;36m_floatconv\u001b[1;34m(x)\u001b[0m\n\u001b[0;32m    723\u001b[0m \u001b[38;5;28;01mdef\u001b[39;00m \u001b[38;5;21m_floatconv\u001b[39m(x):\n\u001b[0;32m    724\u001b[0m     \u001b[38;5;28;01mtry\u001b[39;00m:\n\u001b[1;32m--> 725\u001b[0m         \u001b[38;5;28;01mreturn\u001b[39;00m \u001b[38;5;28;43mfloat\u001b[39;49m\u001b[43m(\u001b[49m\u001b[43mx\u001b[49m\u001b[43m)\u001b[49m  \u001b[38;5;66;03m# The fastest path.\u001b[39;00m\n\u001b[0;32m    726\u001b[0m     \u001b[38;5;28;01mexcept\u001b[39;00m \u001b[38;5;167;01mValueError\u001b[39;00m:\n\u001b[0;32m    727\u001b[0m         \u001b[38;5;28;01mif\u001b[39;00m \u001b[38;5;124m'\u001b[39m\u001b[38;5;124m0x\u001b[39m\u001b[38;5;124m'\u001b[39m \u001b[38;5;129;01min\u001b[39;00m x:  \u001b[38;5;66;03m# Don't accidentally convert \"a\" (\"0xa\") to 10.\u001b[39;00m\n",
      "\u001b[1;31mValueError\u001b[0m: could not convert string to float: 'Water'"
     ]
    }
   ],
   "source": [
    "# Path to the data file\n",
    "file_path = 'molecular_data.txt'\n",
    "\n",
    "# Note that if we try to load the entire file into a single array, we'll get an error as\n",
    "# the file contains both strings and floats. Here, we use delimiter=',' to handle the\n",
    "# comma-separated values\n",
    "np.loadtxt(file_path, delimiter=',', skiprows=1)"
   ]
  },
  {
   "cell_type": "code",
   "execution_count": 21,
   "metadata": {},
   "outputs": [
    {
     "data": {
      "text/plain": [
       "array([['Water', '18.015', '100.0'],\n",
       "       ['Carbon Dioxide', '44.01', '-78.5'],\n",
       "       ['Methane', '16.04', '-161.5'],\n",
       "       ['Ethanol', '46.07', '78.3'],\n",
       "       ['Oxygen', '32.00', '-183.0'],\n",
       "       ['Nitrogen', '28.01', '-196.0'],\n",
       "       ['Hydrogen Peroxide', '34.01', '150.2'],\n",
       "       ['Ammonia', '17.03', '-33.3'],\n",
       "       ['Sulfuric Acid', '98.09', '337.0'],\n",
       "       ['Acetic Acid', '60.05', '118.1'],\n",
       "       ['Methanol', '32.04', '64.7'],\n",
       "       ['Benzene', '78.11', '80.1'],\n",
       "       ['Ethylene', '28.05', '-103.7'],\n",
       "       ['Propane', '44.10', '-42.1'],\n",
       "       ['Butane', '58.12', '-0.5'],\n",
       "       ['Pentane', '72.15', '36.1'],\n",
       "       ['Hexane', '86.18', '68.7'],\n",
       "       ['Heptane', '100.20', '98.4'],\n",
       "       ['Octane', '114.22', '125.7'],\n",
       "       ['Nonane', '128.25', '150.8'],\n",
       "       ['Decane', '142.28', '174.1'],\n",
       "       ['Caffeine', '194.19', '178.0'],\n",
       "       ['Ethane', '30.07', '-88.6']], dtype='<U17')"
      ]
     },
     "execution_count": 21,
     "metadata": {},
     "output_type": "execute_result"
    }
   ],
   "source": [
    "# As numpy arrays must be homogenously typed, i.e. we can't mix strings and floats. We\n",
    "# can pass the `dtype` argument to `np.loadtxt` to specify the data type of the array,\n",
    "# ensuring everything is loaded as strings. However, this perhaps isn't so useful as we\n",
    "# want the molecular weights as floats.\n",
    "np.loadtxt(file_path, delimiter=',', skiprows=1, dtype=str)"
   ]
  },
  {
   "cell_type": "code",
   "execution_count": 22,
   "metadata": {},
   "outputs": [
    {
     "name": "stdout",
     "output_type": "stream",
     "text": [
      "Names:\n",
      "['Water' 'Carbon Dioxide' 'Methane' 'Ethanol' 'Oxygen' 'Nitrogen'\n",
      " 'Hydrogen Peroxide' 'Ammonia' 'Sulfuric Acid' 'Acetic Acid' 'Methanol'\n",
      " 'Benzene' 'Ethylene' 'Propane' 'Butane' 'Pentane' 'Hexane' 'Heptane'\n",
      " 'Octane' 'Nonane' 'Decane' 'Caffeine' 'Ethane']\n",
      "Molecular Weights (g/mol):\n",
      "[ 18.015  44.01   16.04   46.07   32.     28.01   34.01   17.03   98.09\n",
      "  60.05   32.04   78.11   28.05   44.1    58.12   72.15   86.18  100.2\n",
      " 114.22  128.25  142.28  194.19   30.07 ]\n"
     ]
    }
   ],
   "source": [
    "# Instead, we can load the names as strings and the molecular weights as floats using\n",
    "# the `usecols` argument to specify which columns to load.\n",
    "names = np.loadtxt(file_path, delimiter=',', skiprows=1, usecols=[0], dtype=str)\n",
    "molecular_weights = np.loadtxt(file_path, delimiter=',', skiprows=1, usecols=[1], dtype=np.float64)\n",
    "\n",
    "print(\"Names:\")\n",
    "print(names)\n",
    "print(\"Molecular Weights (g/mol):\")\n",
    "print(molecular_weights)"
   ]
  },
  {
   "cell_type": "markdown",
   "metadata": {},
   "source": [
    "Let's do some basic statistical analysis on the molecular weight data, by finding the\n",
    "range of values, and the mean and standard deviation.\n",
    "\n",
    "For the mean and standard deviation, perform a Google search to identify the appropriate\n",
    "numpy functions to use here."
   ]
  },
  {
   "cell_type": "code",
   "execution_count": 24,
   "metadata": {},
   "outputs": [
    {
     "name": "stdout",
     "output_type": "stream",
     "text": [
      "Max: 194.19, Min: 16.04, Mean: 65.27326086956522, Std: 45.39299739158912\n"
     ]
    }
   ],
   "source": [
    "# TODO: find the mean and standard deviation of the molecular weights\n",
    "\n",
    "max_value = np.max(molecular_weights)\n",
    "min_value = np.min(molecular_weights)\n",
    "mean_value = np.mean(molecular_weights)  # your code here\n",
    "std_value = np.std(molecular_weights)  # your code here\n",
    "\n",
    "print(f\"Max: {max_value}, Min: {min_value}, Mean: {mean_value}, Std: {std_value}\")"
   ]
  },
  {
   "cell_type": "code",
   "execution_count": 25,
   "metadata": {},
   "outputs": [
    {
     "name": "stdout",
     "output_type": "stream",
     "text": [
      "The molecule with the highest molecular weight is: Caffeine with a weight of 194.19\n"
     ]
    }
   ],
   "source": [
    "# Which molecule has the highest molecular weight? We want to find the index in the\n",
    "# `names` array where the maximum value in `molecular_weights` is located.\n",
    "\n",
    "# We can use the `np.argmax` function to find the index of the maximum value in an\n",
    "# array.\n",
    "max_index = np.argmax(molecular_weights)\n",
    "\n",
    "print(f\"The molecule with the highest molecular weight is: {names[max_index]} with a weight of {molecular_weights[max_index]}\")"
   ]
  },
  {
   "cell_type": "markdown",
   "metadata": {},
   "source": [
    "## 2. Data handling with `pandas`\n",
    "\n",
    "**What it is**: Pandas is a library providing high-level data structures and tools designed to make data analysis fast and easy in Python. Its primary data structure is the DataFrame, which allows you to store and manipulate tabular data in rows of observations and columns of variables.\n",
    "\n",
    "**Why it's used**: Pandas is used for data cleaning, transformation, and analysis. It offers data structures with a lot of flexibility and functionality, as well as the means to efficiently handle missing data, merge datasets, and perform complex data aggregations.\n",
    "\n",
    "**Usefulness in Chemical Sciences**: For chemists, pandas is invaluable for manipulating\n",
    "and analyzing experimental datasets, such as spectroscopy data or chemical properties of\n",
    "compounds. It simplifies tasks such as filtering data, performing statistical analyses,\n",
    "and working with time-series data from instrumental measurements.\n",
    "\n",
    "\n",
    "### Basics\n",
    "\n",
    "Pandas has two main data structures: Series and DataFrame. A Series is essentially a\n",
    "column, while a DataFrame is a multi-dimensional table made up of a collection of\n",
    "Series.\n",
    "\n",
    "A Series in pandas is one of the core data structures in the Python pandas library. It\n",
    "represents a one-dimensional array-like object containing a sequence of values and an\n",
    "associated array of data labels, called its index. The Series can hold any data\n",
    "type—integers, strings, floating point numbers, Python objects, and so on. It’s similar\n",
    "to a column in a spreadsheet or a table in a database."
   ]
  },
  {
   "cell_type": "code",
   "execution_count": 26,
   "metadata": {},
   "outputs": [
    {
     "data": {
      "text/plain": [
       "0              Water\n",
       "1            Ethanol\n",
       "2            Glucose\n",
       "3    Sodium Chloride\n",
       "4            Methane\n",
       "dtype: object"
      ]
     },
     "execution_count": 26,
     "metadata": {},
     "output_type": "execute_result"
    }
   ],
   "source": [
    "compounds = pd.Series([\"Water\", \"Ethanol\", \"Glucose\", \"Sodium Chloride\", \"Methane\"])\n",
    "compounds"
   ]
  },
  {
   "cell_type": "markdown",
   "metadata": {},
   "source": [
    "A DataFrame is a two-dimensional, size-mutable, potentially heterogeneous tabular data\n",
    "structure with labeled axes (rows and columns). For a chemistry application, let’s\n",
    "consider a simple example where we have a dataset of several compounds with their\n",
    "molecular weights and melting points."
   ]
  },
  {
   "cell_type": "code",
   "execution_count": 27,
   "metadata": {},
   "outputs": [
    {
     "data": {
      "text/html": [
       "<div>\n",
       "<style scoped>\n",
       "    .dataframe tbody tr th:only-of-type {\n",
       "        vertical-align: middle;\n",
       "    }\n",
       "\n",
       "    .dataframe tbody tr th {\n",
       "        vertical-align: top;\n",
       "    }\n",
       "\n",
       "    .dataframe thead th {\n",
       "        text-align: right;\n",
       "    }\n",
       "</style>\n",
       "<table border=\"1\" class=\"dataframe\">\n",
       "  <thead>\n",
       "    <tr style=\"text-align: right;\">\n",
       "      <th></th>\n",
       "      <th>Compound</th>\n",
       "      <th>Molecular Weight</th>\n",
       "      <th>Melting Point (°C)</th>\n",
       "    </tr>\n",
       "  </thead>\n",
       "  <tbody>\n",
       "    <tr>\n",
       "      <th>0</th>\n",
       "      <td>Water</td>\n",
       "      <td>18.015</td>\n",
       "      <td>0.0</td>\n",
       "    </tr>\n",
       "    <tr>\n",
       "      <th>1</th>\n",
       "      <td>Ethanol</td>\n",
       "      <td>46.070</td>\n",
       "      <td>-114.1</td>\n",
       "    </tr>\n",
       "    <tr>\n",
       "      <th>2</th>\n",
       "      <td>Glucose</td>\n",
       "      <td>180.160</td>\n",
       "      <td>146.0</td>\n",
       "    </tr>\n",
       "    <tr>\n",
       "      <th>3</th>\n",
       "      <td>Sodium Chloride</td>\n",
       "      <td>58.440</td>\n",
       "      <td>801.0</td>\n",
       "    </tr>\n",
       "    <tr>\n",
       "      <th>4</th>\n",
       "      <td>Methane</td>\n",
       "      <td>16.040</td>\n",
       "      <td>-182.5</td>\n",
       "    </tr>\n",
       "  </tbody>\n",
       "</table>\n",
       "</div>"
      ],
      "text/plain": [
       "          Compound  Molecular Weight  Melting Point (°C)\n",
       "0            Water            18.015                 0.0\n",
       "1          Ethanol            46.070              -114.1\n",
       "2          Glucose           180.160               146.0\n",
       "3  Sodium Chloride            58.440               801.0\n",
       "4          Methane            16.040              -182.5"
      ]
     },
     "execution_count": 27,
     "metadata": {},
     "output_type": "execute_result"
    }
   ],
   "source": [
    "data = {\n",
    "    \"Compound\": [\"Water\", \"Ethanol\", \"Glucose\", \"Sodium Chloride\", \"Methane\"],\n",
    "    \"Molecular Weight\": [18.015, 46.07, 180.16, 58.44, 16.04],\n",
    "    \"Melting Point (°C)\": [0, -114.1, 146, 801, -182.5]\n",
    "}\n",
    "df = pd.DataFrame(data)\n",
    "df"
   ]
  },
  {
   "cell_type": "markdown",
   "metadata": {},
   "source": [
    "A `DataFrame` can also be created by reading in data from file"
   ]
  },
  {
   "cell_type": "code",
   "execution_count": 28,
   "metadata": {},
   "outputs": [
    {
     "data": {
      "text/html": [
       "<div>\n",
       "<style scoped>\n",
       "    .dataframe tbody tr th:only-of-type {\n",
       "        vertical-align: middle;\n",
       "    }\n",
       "\n",
       "    .dataframe tbody tr th {\n",
       "        vertical-align: top;\n",
       "    }\n",
       "\n",
       "    .dataframe thead th {\n",
       "        text-align: right;\n",
       "    }\n",
       "</style>\n",
       "<table border=\"1\" class=\"dataframe\">\n",
       "  <thead>\n",
       "    <tr style=\"text-align: right;\">\n",
       "      <th></th>\n",
       "      <th># Compound Name</th>\n",
       "      <th>Molecular Weight (g/mol)</th>\n",
       "      <th>Boiling Point (°C)</th>\n",
       "    </tr>\n",
       "  </thead>\n",
       "  <tbody>\n",
       "    <tr>\n",
       "      <th>0</th>\n",
       "      <td>Water</td>\n",
       "      <td>18.015</td>\n",
       "      <td>100.0</td>\n",
       "    </tr>\n",
       "    <tr>\n",
       "      <th>1</th>\n",
       "      <td>Carbon Dioxide</td>\n",
       "      <td>44.010</td>\n",
       "      <td>-78.5</td>\n",
       "    </tr>\n",
       "    <tr>\n",
       "      <th>2</th>\n",
       "      <td>Methane</td>\n",
       "      <td>16.040</td>\n",
       "      <td>-161.5</td>\n",
       "    </tr>\n",
       "    <tr>\n",
       "      <th>3</th>\n",
       "      <td>Ethanol</td>\n",
       "      <td>46.070</td>\n",
       "      <td>78.3</td>\n",
       "    </tr>\n",
       "    <tr>\n",
       "      <th>4</th>\n",
       "      <td>Oxygen</td>\n",
       "      <td>32.000</td>\n",
       "      <td>-183.0</td>\n",
       "    </tr>\n",
       "    <tr>\n",
       "      <th>5</th>\n",
       "      <td>Nitrogen</td>\n",
       "      <td>28.010</td>\n",
       "      <td>-196.0</td>\n",
       "    </tr>\n",
       "    <tr>\n",
       "      <th>6</th>\n",
       "      <td>Hydrogen Peroxide</td>\n",
       "      <td>34.010</td>\n",
       "      <td>150.2</td>\n",
       "    </tr>\n",
       "    <tr>\n",
       "      <th>7</th>\n",
       "      <td>Ammonia</td>\n",
       "      <td>17.030</td>\n",
       "      <td>-33.3</td>\n",
       "    </tr>\n",
       "    <tr>\n",
       "      <th>8</th>\n",
       "      <td>Sulfuric Acid</td>\n",
       "      <td>98.090</td>\n",
       "      <td>337.0</td>\n",
       "    </tr>\n",
       "    <tr>\n",
       "      <th>9</th>\n",
       "      <td>Acetic Acid</td>\n",
       "      <td>60.050</td>\n",
       "      <td>118.1</td>\n",
       "    </tr>\n",
       "    <tr>\n",
       "      <th>10</th>\n",
       "      <td>Methanol</td>\n",
       "      <td>32.040</td>\n",
       "      <td>64.7</td>\n",
       "    </tr>\n",
       "    <tr>\n",
       "      <th>11</th>\n",
       "      <td>Benzene</td>\n",
       "      <td>78.110</td>\n",
       "      <td>80.1</td>\n",
       "    </tr>\n",
       "    <tr>\n",
       "      <th>12</th>\n",
       "      <td>Ethylene</td>\n",
       "      <td>28.050</td>\n",
       "      <td>-103.7</td>\n",
       "    </tr>\n",
       "    <tr>\n",
       "      <th>13</th>\n",
       "      <td>Propane</td>\n",
       "      <td>44.100</td>\n",
       "      <td>-42.1</td>\n",
       "    </tr>\n",
       "    <tr>\n",
       "      <th>14</th>\n",
       "      <td>Butane</td>\n",
       "      <td>58.120</td>\n",
       "      <td>-0.5</td>\n",
       "    </tr>\n",
       "    <tr>\n",
       "      <th>15</th>\n",
       "      <td>Pentane</td>\n",
       "      <td>72.150</td>\n",
       "      <td>36.1</td>\n",
       "    </tr>\n",
       "    <tr>\n",
       "      <th>16</th>\n",
       "      <td>Hexane</td>\n",
       "      <td>86.180</td>\n",
       "      <td>68.7</td>\n",
       "    </tr>\n",
       "    <tr>\n",
       "      <th>17</th>\n",
       "      <td>Heptane</td>\n",
       "      <td>100.200</td>\n",
       "      <td>98.4</td>\n",
       "    </tr>\n",
       "    <tr>\n",
       "      <th>18</th>\n",
       "      <td>Octane</td>\n",
       "      <td>114.220</td>\n",
       "      <td>125.7</td>\n",
       "    </tr>\n",
       "    <tr>\n",
       "      <th>19</th>\n",
       "      <td>Nonane</td>\n",
       "      <td>128.250</td>\n",
       "      <td>150.8</td>\n",
       "    </tr>\n",
       "    <tr>\n",
       "      <th>20</th>\n",
       "      <td>Decane</td>\n",
       "      <td>142.280</td>\n",
       "      <td>174.1</td>\n",
       "    </tr>\n",
       "    <tr>\n",
       "      <th>21</th>\n",
       "      <td>Caffeine</td>\n",
       "      <td>194.190</td>\n",
       "      <td>178.0</td>\n",
       "    </tr>\n",
       "    <tr>\n",
       "      <th>22</th>\n",
       "      <td>Ethane</td>\n",
       "      <td>30.070</td>\n",
       "      <td>-88.6</td>\n",
       "    </tr>\n",
       "  </tbody>\n",
       "</table>\n",
       "</div>"
      ],
      "text/plain": [
       "      # Compound Name  Molecular Weight (g/mol)  Boiling Point (°C)\n",
       "0               Water                    18.015               100.0\n",
       "1      Carbon Dioxide                    44.010               -78.5\n",
       "2             Methane                    16.040              -161.5\n",
       "3             Ethanol                    46.070                78.3\n",
       "4              Oxygen                    32.000              -183.0\n",
       "5            Nitrogen                    28.010              -196.0\n",
       "6   Hydrogen Peroxide                    34.010               150.2\n",
       "7             Ammonia                    17.030               -33.3\n",
       "8       Sulfuric Acid                    98.090               337.0\n",
       "9         Acetic Acid                    60.050               118.1\n",
       "10           Methanol                    32.040                64.7\n",
       "11            Benzene                    78.110                80.1\n",
       "12           Ethylene                    28.050              -103.7\n",
       "13            Propane                    44.100               -42.1\n",
       "14             Butane                    58.120                -0.5\n",
       "15            Pentane                    72.150                36.1\n",
       "16             Hexane                    86.180                68.7\n",
       "17            Heptane                   100.200                98.4\n",
       "18             Octane                   114.220               125.7\n",
       "19             Nonane                   128.250               150.8\n",
       "20             Decane                   142.280               174.1\n",
       "21           Caffeine                   194.190               178.0\n",
       "22             Ethane                    30.070               -88.6"
      ]
     },
     "execution_count": 28,
     "metadata": {},
     "output_type": "execute_result"
    }
   ],
   "source": [
    "# Read from the molecular_weights.txt file from before\n",
    "df = pd.read_csv(file_path, )\n",
    "df"
   ]
  },
  {
   "cell_type": "code",
   "execution_count": 29,
   "metadata": {},
   "outputs": [
    {
     "data": {
      "text/plain": [
       "Index(['# Compound Name', 'Molecular Weight (g/mol)', 'Boiling Point (°C)'], dtype='object')"
      ]
     },
     "execution_count": 29,
     "metadata": {},
     "output_type": "execute_result"
    }
   ],
   "source": [
    "df.columns"
   ]
  },
  {
   "cell_type": "code",
   "execution_count": 30,
   "metadata": {},
   "outputs": [
    {
     "data": {
      "text/plain": [
       "0      18.015\n",
       "1      44.010\n",
       "2      16.040\n",
       "3      46.070\n",
       "4      32.000\n",
       "5      28.010\n",
       "6      34.010\n",
       "7      17.030\n",
       "8      98.090\n",
       "9      60.050\n",
       "10     32.040\n",
       "11     78.110\n",
       "12     28.050\n",
       "13     44.100\n",
       "14     58.120\n",
       "15     72.150\n",
       "16     86.180\n",
       "17    100.200\n",
       "18    114.220\n",
       "19    128.250\n",
       "20    142.280\n",
       "21    194.190\n",
       "22     30.070\n",
       "Name: Molecular Weight (g/mol), dtype: float64"
      ]
     },
     "execution_count": 30,
     "metadata": {},
     "output_type": "execute_result"
    }
   ],
   "source": [
    "# If we want to access a single column, we can use the column name as an attribute\n",
    "df[\"Molecular Weight (g/mol)\"]"
   ]
  },
  {
   "cell_type": "markdown",
   "metadata": {},
   "source": [
    "However, inclusion of the units in the column name may make it pretty inconvenient to\n",
    "reference over and over again.\n",
    "\n",
    "We can instead load the data with custom column names:"
   ]
  },
  {
   "cell_type": "code",
   "execution_count": 31,
   "metadata": {},
   "outputs": [
    {
     "data": {
      "text/html": [
       "<div>\n",
       "<style scoped>\n",
       "    .dataframe tbody tr th:only-of-type {\n",
       "        vertical-align: middle;\n",
       "    }\n",
       "\n",
       "    .dataframe tbody tr th {\n",
       "        vertical-align: top;\n",
       "    }\n",
       "\n",
       "    .dataframe thead th {\n",
       "        text-align: right;\n",
       "    }\n",
       "</style>\n",
       "<table border=\"1\" class=\"dataframe\">\n",
       "  <thead>\n",
       "    <tr style=\"text-align: right;\">\n",
       "      <th></th>\n",
       "      <th>molecule</th>\n",
       "      <th>weight</th>\n",
       "      <th>boiling_point_celsius</th>\n",
       "    </tr>\n",
       "  </thead>\n",
       "  <tbody>\n",
       "    <tr>\n",
       "      <th>0</th>\n",
       "      <td>Water</td>\n",
       "      <td>18.015</td>\n",
       "      <td>100.0</td>\n",
       "    </tr>\n",
       "    <tr>\n",
       "      <th>1</th>\n",
       "      <td>Carbon Dioxide</td>\n",
       "      <td>44.010</td>\n",
       "      <td>-78.5</td>\n",
       "    </tr>\n",
       "    <tr>\n",
       "      <th>2</th>\n",
       "      <td>Methane</td>\n",
       "      <td>16.040</td>\n",
       "      <td>-161.5</td>\n",
       "    </tr>\n",
       "    <tr>\n",
       "      <th>3</th>\n",
       "      <td>Ethanol</td>\n",
       "      <td>46.070</td>\n",
       "      <td>78.3</td>\n",
       "    </tr>\n",
       "    <tr>\n",
       "      <th>4</th>\n",
       "      <td>Oxygen</td>\n",
       "      <td>32.000</td>\n",
       "      <td>-183.0</td>\n",
       "    </tr>\n",
       "    <tr>\n",
       "      <th>5</th>\n",
       "      <td>Nitrogen</td>\n",
       "      <td>28.010</td>\n",
       "      <td>-196.0</td>\n",
       "    </tr>\n",
       "    <tr>\n",
       "      <th>6</th>\n",
       "      <td>Hydrogen Peroxide</td>\n",
       "      <td>34.010</td>\n",
       "      <td>150.2</td>\n",
       "    </tr>\n",
       "    <tr>\n",
       "      <th>7</th>\n",
       "      <td>Ammonia</td>\n",
       "      <td>17.030</td>\n",
       "      <td>-33.3</td>\n",
       "    </tr>\n",
       "    <tr>\n",
       "      <th>8</th>\n",
       "      <td>Sulfuric Acid</td>\n",
       "      <td>98.090</td>\n",
       "      <td>337.0</td>\n",
       "    </tr>\n",
       "    <tr>\n",
       "      <th>9</th>\n",
       "      <td>Acetic Acid</td>\n",
       "      <td>60.050</td>\n",
       "      <td>118.1</td>\n",
       "    </tr>\n",
       "    <tr>\n",
       "      <th>10</th>\n",
       "      <td>Methanol</td>\n",
       "      <td>32.040</td>\n",
       "      <td>64.7</td>\n",
       "    </tr>\n",
       "    <tr>\n",
       "      <th>11</th>\n",
       "      <td>Benzene</td>\n",
       "      <td>78.110</td>\n",
       "      <td>80.1</td>\n",
       "    </tr>\n",
       "    <tr>\n",
       "      <th>12</th>\n",
       "      <td>Ethylene</td>\n",
       "      <td>28.050</td>\n",
       "      <td>-103.7</td>\n",
       "    </tr>\n",
       "    <tr>\n",
       "      <th>13</th>\n",
       "      <td>Propane</td>\n",
       "      <td>44.100</td>\n",
       "      <td>-42.1</td>\n",
       "    </tr>\n",
       "    <tr>\n",
       "      <th>14</th>\n",
       "      <td>Butane</td>\n",
       "      <td>58.120</td>\n",
       "      <td>-0.5</td>\n",
       "    </tr>\n",
       "    <tr>\n",
       "      <th>15</th>\n",
       "      <td>Pentane</td>\n",
       "      <td>72.150</td>\n",
       "      <td>36.1</td>\n",
       "    </tr>\n",
       "    <tr>\n",
       "      <th>16</th>\n",
       "      <td>Hexane</td>\n",
       "      <td>86.180</td>\n",
       "      <td>68.7</td>\n",
       "    </tr>\n",
       "    <tr>\n",
       "      <th>17</th>\n",
       "      <td>Heptane</td>\n",
       "      <td>100.200</td>\n",
       "      <td>98.4</td>\n",
       "    </tr>\n",
       "    <tr>\n",
       "      <th>18</th>\n",
       "      <td>Octane</td>\n",
       "      <td>114.220</td>\n",
       "      <td>125.7</td>\n",
       "    </tr>\n",
       "    <tr>\n",
       "      <th>19</th>\n",
       "      <td>Nonane</td>\n",
       "      <td>128.250</td>\n",
       "      <td>150.8</td>\n",
       "    </tr>\n",
       "    <tr>\n",
       "      <th>20</th>\n",
       "      <td>Decane</td>\n",
       "      <td>142.280</td>\n",
       "      <td>174.1</td>\n",
       "    </tr>\n",
       "    <tr>\n",
       "      <th>21</th>\n",
       "      <td>Caffeine</td>\n",
       "      <td>194.190</td>\n",
       "      <td>178.0</td>\n",
       "    </tr>\n",
       "    <tr>\n",
       "      <th>22</th>\n",
       "      <td>Ethane</td>\n",
       "      <td>30.070</td>\n",
       "      <td>-88.6</td>\n",
       "    </tr>\n",
       "  </tbody>\n",
       "</table>\n",
       "</div>"
      ],
      "text/plain": [
       "             molecule   weight  boiling_point_celsius\n",
       "0               Water   18.015                  100.0\n",
       "1      Carbon Dioxide   44.010                  -78.5\n",
       "2             Methane   16.040                 -161.5\n",
       "3             Ethanol   46.070                   78.3\n",
       "4              Oxygen   32.000                 -183.0\n",
       "5            Nitrogen   28.010                 -196.0\n",
       "6   Hydrogen Peroxide   34.010                  150.2\n",
       "7             Ammonia   17.030                  -33.3\n",
       "8       Sulfuric Acid   98.090                  337.0\n",
       "9         Acetic Acid   60.050                  118.1\n",
       "10           Methanol   32.040                   64.7\n",
       "11            Benzene   78.110                   80.1\n",
       "12           Ethylene   28.050                 -103.7\n",
       "13            Propane   44.100                  -42.1\n",
       "14             Butane   58.120                   -0.5\n",
       "15            Pentane   72.150                   36.1\n",
       "16             Hexane   86.180                   68.7\n",
       "17            Heptane  100.200                   98.4\n",
       "18             Octane  114.220                  125.7\n",
       "19             Nonane  128.250                  150.8\n",
       "20             Decane  142.280                  174.1\n",
       "21           Caffeine  194.190                  178.0\n",
       "22             Ethane   30.070                  -88.6"
      ]
     },
     "execution_count": 31,
     "metadata": {},
     "output_type": "execute_result"
    }
   ],
   "source": [
    "# Load the data again, but this time specify the column names\n",
    "df = pd.read_csv(file_path, names=[\"molecule\", \"weight\", \"boiling_point_celsius\"], skiprows=1)\n",
    "df"
   ]
  },
  {
   "cell_type": "code",
   "execution_count": 32,
   "metadata": {},
   "outputs": [
    {
     "data": {
      "text/plain": [
       "0      18.015\n",
       "1      44.010\n",
       "2      16.040\n",
       "3      46.070\n",
       "4      32.000\n",
       "5      28.010\n",
       "6      34.010\n",
       "7      17.030\n",
       "8      98.090\n",
       "9      60.050\n",
       "10     32.040\n",
       "11     78.110\n",
       "12     28.050\n",
       "13     44.100\n",
       "14     58.120\n",
       "15     72.150\n",
       "16     86.180\n",
       "17    100.200\n",
       "18    114.220\n",
       "19    128.250\n",
       "20    142.280\n",
       "21    194.190\n",
       "22     30.070\n",
       "Name: weight, dtype: float64"
      ]
     },
     "execution_count": 32,
     "metadata": {},
     "output_type": "execute_result"
    }
   ],
   "source": [
    "df[\"weight\"]"
   ]
  },
  {
   "cell_type": "markdown",
   "metadata": {},
   "source": [
    "### Data inspection\n",
    "\n",
    "Pandas provides numerous functions to quickly inspect your data:\n",
    "\n",
    "* `df.head()` displays the first few rows of the DataFrame.\n",
    "* `df.describe()` gives a statistical summary of the numerical columns.\n",
    "* `df.dtypes` shows the data type of each column."
   ]
  },
  {
   "cell_type": "code",
   "execution_count": 33,
   "metadata": {},
   "outputs": [
    {
     "data": {
      "text/html": [
       "<div>\n",
       "<style scoped>\n",
       "    .dataframe tbody tr th:only-of-type {\n",
       "        vertical-align: middle;\n",
       "    }\n",
       "\n",
       "    .dataframe tbody tr th {\n",
       "        vertical-align: top;\n",
       "    }\n",
       "\n",
       "    .dataframe thead th {\n",
       "        text-align: right;\n",
       "    }\n",
       "</style>\n",
       "<table border=\"1\" class=\"dataframe\">\n",
       "  <thead>\n",
       "    <tr style=\"text-align: right;\">\n",
       "      <th></th>\n",
       "      <th>weight</th>\n",
       "      <th>boiling_point_celsius</th>\n",
       "    </tr>\n",
       "  </thead>\n",
       "  <tbody>\n",
       "    <tr>\n",
       "      <th>count</th>\n",
       "      <td>23.000000</td>\n",
       "      <td>23.000000</td>\n",
       "    </tr>\n",
       "    <tr>\n",
       "      <th>mean</th>\n",
       "      <td>65.273261</td>\n",
       "      <td>37.956522</td>\n",
       "    </tr>\n",
       "    <tr>\n",
       "      <th>std</th>\n",
       "      <td>46.413192</td>\n",
       "      <td>132.381971</td>\n",
       "    </tr>\n",
       "    <tr>\n",
       "      <th>min</th>\n",
       "      <td>16.040000</td>\n",
       "      <td>-196.000000</td>\n",
       "    </tr>\n",
       "    <tr>\n",
       "      <th>25%</th>\n",
       "      <td>31.035000</td>\n",
       "      <td>-60.300000</td>\n",
       "    </tr>\n",
       "    <tr>\n",
       "      <th>50%</th>\n",
       "      <td>46.070000</td>\n",
       "      <td>68.700000</td>\n",
       "    </tr>\n",
       "    <tr>\n",
       "      <th>75%</th>\n",
       "      <td>92.135000</td>\n",
       "      <td>121.900000</td>\n",
       "    </tr>\n",
       "    <tr>\n",
       "      <th>max</th>\n",
       "      <td>194.190000</td>\n",
       "      <td>337.000000</td>\n",
       "    </tr>\n",
       "  </tbody>\n",
       "</table>\n",
       "</div>"
      ],
      "text/plain": [
       "           weight  boiling_point_celsius\n",
       "count   23.000000              23.000000\n",
       "mean    65.273261              37.956522\n",
       "std     46.413192             132.381971\n",
       "min     16.040000            -196.000000\n",
       "25%     31.035000             -60.300000\n",
       "50%     46.070000              68.700000\n",
       "75%     92.135000             121.900000\n",
       "max    194.190000             337.000000"
      ]
     },
     "execution_count": 33,
     "metadata": {},
     "output_type": "execute_result"
    }
   ],
   "source": [
    "df.describe()"
   ]
  },
  {
   "cell_type": "markdown",
   "metadata": {},
   "source": [
    "### Indexing\n",
    "\n",
    "In pandas, .loc and .iloc are indexing operators used for selecting data from a\n",
    "DataFrame. While both are used for data selection, they differ in how they perform the\n",
    "selection:\n",
    "\n",
    "* `.loc` is label-based, meaning you use the labels of the rows and columns to select data.\n",
    "* `.iloc` is integer position-based, so you use integer indices to select data."
   ]
  },
  {
   "cell_type": "code",
   "execution_count": 34,
   "metadata": {},
   "outputs": [
    {
     "data": {
      "text/plain": [
       "molecule                 Carbon Dioxide\n",
       "weight                            44.01\n",
       "boiling_point_celsius             -78.5\n",
       "Name: 1, dtype: object"
      ]
     },
     "execution_count": 34,
     "metadata": {},
     "output_type": "execute_result"
    }
   ],
   "source": [
    "# Select the row for Carbon Dioxide (index 1)\n",
    "df.loc[1]"
   ]
  },
  {
   "cell_type": "code",
   "execution_count": 35,
   "metadata": {},
   "outputs": [
    {
     "data": {
      "text/html": [
       "<div>\n",
       "<style scoped>\n",
       "    .dataframe tbody tr th:only-of-type {\n",
       "        vertical-align: middle;\n",
       "    }\n",
       "\n",
       "    .dataframe tbody tr th {\n",
       "        vertical-align: top;\n",
       "    }\n",
       "\n",
       "    .dataframe thead th {\n",
       "        text-align: right;\n",
       "    }\n",
       "</style>\n",
       "<table border=\"1\" class=\"dataframe\">\n",
       "  <thead>\n",
       "    <tr style=\"text-align: right;\">\n",
       "      <th></th>\n",
       "      <th>molecule</th>\n",
       "      <th>weight</th>\n",
       "      <th>boiling_point_celsius</th>\n",
       "    </tr>\n",
       "  </thead>\n",
       "  <tbody>\n",
       "    <tr>\n",
       "      <th>0</th>\n",
       "      <td>Water</td>\n",
       "      <td>18.015</td>\n",
       "      <td>100.0</td>\n",
       "    </tr>\n",
       "    <tr>\n",
       "      <th>10</th>\n",
       "      <td>Methanol</td>\n",
       "      <td>32.040</td>\n",
       "      <td>64.7</td>\n",
       "    </tr>\n",
       "  </tbody>\n",
       "</table>\n",
       "</div>"
      ],
      "text/plain": [
       "    molecule  weight  boiling_point_celsius\n",
       "0      Water  18.015                  100.0\n",
       "10  Methanol  32.040                   64.7"
      ]
     },
     "execution_count": 35,
     "metadata": {},
     "output_type": "execute_result"
    }
   ],
   "source": [
    "# Select rows for Water and Methanol\n",
    "df.loc[[0, 10]]"
   ]
  },
  {
   "cell_type": "code",
   "execution_count": 36,
   "metadata": {},
   "outputs": [
    {
     "data": {
      "text/html": [
       "<div>\n",
       "<style scoped>\n",
       "    .dataframe tbody tr th:only-of-type {\n",
       "        vertical-align: middle;\n",
       "    }\n",
       "\n",
       "    .dataframe tbody tr th {\n",
       "        vertical-align: top;\n",
       "    }\n",
       "\n",
       "    .dataframe thead th {\n",
       "        text-align: right;\n",
       "    }\n",
       "</style>\n",
       "<table border=\"1\" class=\"dataframe\">\n",
       "  <thead>\n",
       "    <tr style=\"text-align: right;\">\n",
       "      <th></th>\n",
       "      <th>molecule</th>\n",
       "      <th>weight</th>\n",
       "      <th>boiling_point_celsius</th>\n",
       "    </tr>\n",
       "  </thead>\n",
       "  <tbody>\n",
       "    <tr>\n",
       "      <th>0</th>\n",
       "      <td>Water</td>\n",
       "      <td>18.015</td>\n",
       "      <td>100.0</td>\n",
       "    </tr>\n",
       "    <tr>\n",
       "      <th>2</th>\n",
       "      <td>Methane</td>\n",
       "      <td>16.040</td>\n",
       "      <td>-161.5</td>\n",
       "    </tr>\n",
       "  </tbody>\n",
       "</table>\n",
       "</div>"
      ],
      "text/plain": [
       "  molecule  weight  boiling_point_celsius\n",
       "0    Water  18.015                  100.0\n",
       "2  Methane  16.040                 -161.5"
      ]
     },
     "execution_count": 36,
     "metadata": {},
     "output_type": "execute_result"
    }
   ],
   "source": [
    "# Select rows for Water and Methane\n",
    "df.iloc[[0, 2]]"
   ]
  },
  {
   "cell_type": "code",
   "execution_count": 37,
   "metadata": {},
   "outputs": [
    {
     "data": {
      "text/html": [
       "<div>\n",
       "<style scoped>\n",
       "    .dataframe tbody tr th:only-of-type {\n",
       "        vertical-align: middle;\n",
       "    }\n",
       "\n",
       "    .dataframe tbody tr th {\n",
       "        vertical-align: top;\n",
       "    }\n",
       "\n",
       "    .dataframe thead th {\n",
       "        text-align: right;\n",
       "    }\n",
       "</style>\n",
       "<table border=\"1\" class=\"dataframe\">\n",
       "  <thead>\n",
       "    <tr style=\"text-align: right;\">\n",
       "      <th></th>\n",
       "      <th>weight</th>\n",
       "      <th>boiling_point_celsius</th>\n",
       "    </tr>\n",
       "  </thead>\n",
       "  <tbody>\n",
       "    <tr>\n",
       "      <th>1</th>\n",
       "      <td>44.01</td>\n",
       "      <td>-78.5</td>\n",
       "    </tr>\n",
       "    <tr>\n",
       "      <th>2</th>\n",
       "      <td>16.04</td>\n",
       "      <td>-161.5</td>\n",
       "    </tr>\n",
       "  </tbody>\n",
       "</table>\n",
       "</div>"
      ],
      "text/plain": [
       "   weight  boiling_point_celsius\n",
       "1   44.01                  -78.5\n",
       "2   16.04                 -161.5"
      ]
     },
     "execution_count": 37,
     "metadata": {},
     "output_type": "execute_result"
    }
   ],
   "source": [
    "# Select the Molecular Weight and Melting Point for Carbon Dioxide and Methane\n",
    "df.iloc[[1, 2], [1, 2]]"
   ]
  },
  {
   "cell_type": "code",
   "execution_count": 38,
   "metadata": {},
   "outputs": [
    {
     "data": {
      "text/html": [
       "<div>\n",
       "<style scoped>\n",
       "    .dataframe tbody tr th:only-of-type {\n",
       "        vertical-align: middle;\n",
       "    }\n",
       "\n",
       "    .dataframe tbody tr th {\n",
       "        vertical-align: top;\n",
       "    }\n",
       "\n",
       "    .dataframe thead th {\n",
       "        text-align: right;\n",
       "    }\n",
       "</style>\n",
       "<table border=\"1\" class=\"dataframe\">\n",
       "  <thead>\n",
       "    <tr style=\"text-align: right;\">\n",
       "      <th></th>\n",
       "      <th>molecule</th>\n",
       "      <th>weight</th>\n",
       "      <th>boiling_point_celsius</th>\n",
       "    </tr>\n",
       "  </thead>\n",
       "  <tbody>\n",
       "    <tr>\n",
       "      <th>0</th>\n",
       "      <td>Water</td>\n",
       "      <td>18.015</td>\n",
       "      <td>100.0</td>\n",
       "    </tr>\n",
       "  </tbody>\n",
       "</table>\n",
       "</div>"
      ],
      "text/plain": [
       "  molecule  weight  boiling_point_celsius\n",
       "0    Water  18.015                  100.0"
      ]
     },
     "execution_count": 38,
     "metadata": {},
     "output_type": "execute_result"
    }
   ],
   "source": [
    "# Select the row for water\n",
    "df[df[\"molecule\"] == \"Water\"]"
   ]
  },
  {
   "cell_type": "code",
   "execution_count": 39,
   "metadata": {},
   "outputs": [
    {
     "data": {
      "text/html": [
       "<div>\n",
       "<style scoped>\n",
       "    .dataframe tbody tr th:only-of-type {\n",
       "        vertical-align: middle;\n",
       "    }\n",
       "\n",
       "    .dataframe tbody tr th {\n",
       "        vertical-align: top;\n",
       "    }\n",
       "\n",
       "    .dataframe thead th {\n",
       "        text-align: right;\n",
       "    }\n",
       "</style>\n",
       "<table border=\"1\" class=\"dataframe\">\n",
       "  <thead>\n",
       "    <tr style=\"text-align: right;\">\n",
       "      <th></th>\n",
       "      <th>molecule</th>\n",
       "      <th>weight</th>\n",
       "      <th>boiling_point_celsius</th>\n",
       "    </tr>\n",
       "  </thead>\n",
       "  <tbody>\n",
       "    <tr>\n",
       "      <th>2</th>\n",
       "      <td>Methane</td>\n",
       "      <td>16.04</td>\n",
       "      <td>-161.5</td>\n",
       "    </tr>\n",
       "    <tr>\n",
       "      <th>13</th>\n",
       "      <td>Propane</td>\n",
       "      <td>44.10</td>\n",
       "      <td>-42.1</td>\n",
       "    </tr>\n",
       "    <tr>\n",
       "      <th>14</th>\n",
       "      <td>Butane</td>\n",
       "      <td>58.12</td>\n",
       "      <td>-0.5</td>\n",
       "    </tr>\n",
       "    <tr>\n",
       "      <th>15</th>\n",
       "      <td>Pentane</td>\n",
       "      <td>72.15</td>\n",
       "      <td>36.1</td>\n",
       "    </tr>\n",
       "    <tr>\n",
       "      <th>16</th>\n",
       "      <td>Hexane</td>\n",
       "      <td>86.18</td>\n",
       "      <td>68.7</td>\n",
       "    </tr>\n",
       "    <tr>\n",
       "      <th>17</th>\n",
       "      <td>Heptane</td>\n",
       "      <td>100.20</td>\n",
       "      <td>98.4</td>\n",
       "    </tr>\n",
       "    <tr>\n",
       "      <th>18</th>\n",
       "      <td>Octane</td>\n",
       "      <td>114.22</td>\n",
       "      <td>125.7</td>\n",
       "    </tr>\n",
       "    <tr>\n",
       "      <th>19</th>\n",
       "      <td>Nonane</td>\n",
       "      <td>128.25</td>\n",
       "      <td>150.8</td>\n",
       "    </tr>\n",
       "    <tr>\n",
       "      <th>20</th>\n",
       "      <td>Decane</td>\n",
       "      <td>142.28</td>\n",
       "      <td>174.1</td>\n",
       "    </tr>\n",
       "    <tr>\n",
       "      <th>22</th>\n",
       "      <td>Ethane</td>\n",
       "      <td>30.07</td>\n",
       "      <td>-88.6</td>\n",
       "    </tr>\n",
       "  </tbody>\n",
       "</table>\n",
       "</div>"
      ],
      "text/plain": [
       "   molecule  weight  boiling_point_celsius\n",
       "2   Methane   16.04                 -161.5\n",
       "13  Propane   44.10                  -42.1\n",
       "14   Butane   58.12                   -0.5\n",
       "15  Pentane   72.15                   36.1\n",
       "16   Hexane   86.18                   68.7\n",
       "17  Heptane  100.20                   98.4\n",
       "18   Octane  114.22                  125.7\n",
       "19   Nonane  128.25                  150.8\n",
       "20   Decane  142.28                  174.1\n",
       "22   Ethane   30.07                  -88.6"
      ]
     },
     "execution_count": 39,
     "metadata": {},
     "output_type": "execute_result"
    }
   ],
   "source": [
    "# Select all the hydrocarbons\n",
    "hydrocarbons = [\n",
    "    \"Methane\",\n",
    "    \"Ethane\",\n",
    "    \"Propane\",\n",
    "    \"Butane\",\n",
    "    \"Pentane\",\n",
    "    \"Hexane\",\n",
    "    \"Heptane\",\n",
    "    \"Octane\",\n",
    "    \"Nonane\",\n",
    "    \"Decane\",\n",
    "]\n",
    "\n",
    "df[df[\"molecule\"].isin(hydrocarbons)]"
   ]
  },
  {
   "cell_type": "markdown",
   "metadata": {},
   "source": [
    "### Operations"
   ]
  },
  {
   "cell_type": "code",
   "execution_count": 40,
   "metadata": {},
   "outputs": [
    {
     "name": "stdout",
     "output_type": "stream",
     "text": [
      "Max molecular weight: 194.19\n",
      "Min molecular weight: 16.04\n",
      "Mean molecular weight (pandas): 65.27326086956522\n",
      "Mean molecular weight (numpy): 65.27326086956522\n",
      "Standard deviation of molecular weight (pandas): 46.413192129567285\n",
      "Standard deviation of molecular weight (numpy): 45.39299739158912\n"
     ]
    }
   ],
   "source": [
    "molecular_weights = df[\"weight\"]\n",
    "\n",
    "print(\"Max molecular weight:\", molecular_weights.max())\n",
    "print(\"Min molecular weight:\", molecular_weights.min())\n",
    "\n",
    "print(\"Mean molecular weight (pandas):\", molecular_weights.mean())\n",
    "print(\"Mean molecular weight (numpy):\", np.mean(molecular_weights))\n",
    "\n",
    "print(\"Standard deviation of molecular weight (pandas):\", molecular_weights.std())\n",
    "print(\"Standard deviation of molecular weight (numpy):\", np.std(molecular_weights))"
   ]
  },
  {
   "cell_type": "markdown",
   "metadata": {},
   "source": [
    "***Bonus:*** why are the standard deviations different between numpy and pandas? Have a\n",
    "read of the respective documentation to see how the expressions are normalized:\n",
    "\n",
    "* https://pandas.pydata.org/pandas-docs/stable/reference/api/pandas.DataFrame.std.html\n",
    "* https://numpy.org/doc/stable/reference/generated/numpy.std.html"
   ]
  },
  {
   "cell_type": "code",
   "execution_count": 41,
   "metadata": {},
   "outputs": [
    {
     "data": {
      "text/html": [
       "<div>\n",
       "<style scoped>\n",
       "    .dataframe tbody tr th:only-of-type {\n",
       "        vertical-align: middle;\n",
       "    }\n",
       "\n",
       "    .dataframe tbody tr th {\n",
       "        vertical-align: top;\n",
       "    }\n",
       "\n",
       "    .dataframe thead th {\n",
       "        text-align: right;\n",
       "    }\n",
       "</style>\n",
       "<table border=\"1\" class=\"dataframe\">\n",
       "  <thead>\n",
       "    <tr style=\"text-align: right;\">\n",
       "      <th></th>\n",
       "      <th>molecule</th>\n",
       "      <th>weight</th>\n",
       "      <th>boiling_point_celsius</th>\n",
       "      <th>boiling_point_kelvin</th>\n",
       "    </tr>\n",
       "  </thead>\n",
       "  <tbody>\n",
       "    <tr>\n",
       "      <th>0</th>\n",
       "      <td>Water</td>\n",
       "      <td>18.015</td>\n",
       "      <td>100.0</td>\n",
       "      <td>374.15</td>\n",
       "    </tr>\n",
       "    <tr>\n",
       "      <th>1</th>\n",
       "      <td>Carbon Dioxide</td>\n",
       "      <td>44.010</td>\n",
       "      <td>-78.5</td>\n",
       "      <td>195.65</td>\n",
       "    </tr>\n",
       "    <tr>\n",
       "      <th>2</th>\n",
       "      <td>Methane</td>\n",
       "      <td>16.040</td>\n",
       "      <td>-161.5</td>\n",
       "      <td>112.65</td>\n",
       "    </tr>\n",
       "    <tr>\n",
       "      <th>3</th>\n",
       "      <td>Ethanol</td>\n",
       "      <td>46.070</td>\n",
       "      <td>78.3</td>\n",
       "      <td>352.45</td>\n",
       "    </tr>\n",
       "    <tr>\n",
       "      <th>4</th>\n",
       "      <td>Oxygen</td>\n",
       "      <td>32.000</td>\n",
       "      <td>-183.0</td>\n",
       "      <td>91.15</td>\n",
       "    </tr>\n",
       "    <tr>\n",
       "      <th>5</th>\n",
       "      <td>Nitrogen</td>\n",
       "      <td>28.010</td>\n",
       "      <td>-196.0</td>\n",
       "      <td>78.15</td>\n",
       "    </tr>\n",
       "    <tr>\n",
       "      <th>6</th>\n",
       "      <td>Hydrogen Peroxide</td>\n",
       "      <td>34.010</td>\n",
       "      <td>150.2</td>\n",
       "      <td>424.35</td>\n",
       "    </tr>\n",
       "    <tr>\n",
       "      <th>7</th>\n",
       "      <td>Ammonia</td>\n",
       "      <td>17.030</td>\n",
       "      <td>-33.3</td>\n",
       "      <td>240.85</td>\n",
       "    </tr>\n",
       "    <tr>\n",
       "      <th>8</th>\n",
       "      <td>Sulfuric Acid</td>\n",
       "      <td>98.090</td>\n",
       "      <td>337.0</td>\n",
       "      <td>611.15</td>\n",
       "    </tr>\n",
       "    <tr>\n",
       "      <th>9</th>\n",
       "      <td>Acetic Acid</td>\n",
       "      <td>60.050</td>\n",
       "      <td>118.1</td>\n",
       "      <td>392.25</td>\n",
       "    </tr>\n",
       "    <tr>\n",
       "      <th>10</th>\n",
       "      <td>Methanol</td>\n",
       "      <td>32.040</td>\n",
       "      <td>64.7</td>\n",
       "      <td>338.85</td>\n",
       "    </tr>\n",
       "    <tr>\n",
       "      <th>11</th>\n",
       "      <td>Benzene</td>\n",
       "      <td>78.110</td>\n",
       "      <td>80.1</td>\n",
       "      <td>354.25</td>\n",
       "    </tr>\n",
       "    <tr>\n",
       "      <th>12</th>\n",
       "      <td>Ethylene</td>\n",
       "      <td>28.050</td>\n",
       "      <td>-103.7</td>\n",
       "      <td>170.45</td>\n",
       "    </tr>\n",
       "    <tr>\n",
       "      <th>13</th>\n",
       "      <td>Propane</td>\n",
       "      <td>44.100</td>\n",
       "      <td>-42.1</td>\n",
       "      <td>232.05</td>\n",
       "    </tr>\n",
       "    <tr>\n",
       "      <th>14</th>\n",
       "      <td>Butane</td>\n",
       "      <td>58.120</td>\n",
       "      <td>-0.5</td>\n",
       "      <td>273.65</td>\n",
       "    </tr>\n",
       "    <tr>\n",
       "      <th>15</th>\n",
       "      <td>Pentane</td>\n",
       "      <td>72.150</td>\n",
       "      <td>36.1</td>\n",
       "      <td>310.25</td>\n",
       "    </tr>\n",
       "    <tr>\n",
       "      <th>16</th>\n",
       "      <td>Hexane</td>\n",
       "      <td>86.180</td>\n",
       "      <td>68.7</td>\n",
       "      <td>342.85</td>\n",
       "    </tr>\n",
       "    <tr>\n",
       "      <th>17</th>\n",
       "      <td>Heptane</td>\n",
       "      <td>100.200</td>\n",
       "      <td>98.4</td>\n",
       "      <td>372.55</td>\n",
       "    </tr>\n",
       "    <tr>\n",
       "      <th>18</th>\n",
       "      <td>Octane</td>\n",
       "      <td>114.220</td>\n",
       "      <td>125.7</td>\n",
       "      <td>399.85</td>\n",
       "    </tr>\n",
       "    <tr>\n",
       "      <th>19</th>\n",
       "      <td>Nonane</td>\n",
       "      <td>128.250</td>\n",
       "      <td>150.8</td>\n",
       "      <td>424.95</td>\n",
       "    </tr>\n",
       "    <tr>\n",
       "      <th>20</th>\n",
       "      <td>Decane</td>\n",
       "      <td>142.280</td>\n",
       "      <td>174.1</td>\n",
       "      <td>448.25</td>\n",
       "    </tr>\n",
       "    <tr>\n",
       "      <th>21</th>\n",
       "      <td>Caffeine</td>\n",
       "      <td>194.190</td>\n",
       "      <td>178.0</td>\n",
       "      <td>452.15</td>\n",
       "    </tr>\n",
       "    <tr>\n",
       "      <th>22</th>\n",
       "      <td>Ethane</td>\n",
       "      <td>30.070</td>\n",
       "      <td>-88.6</td>\n",
       "      <td>185.55</td>\n",
       "    </tr>\n",
       "  </tbody>\n",
       "</table>\n",
       "</div>"
      ],
      "text/plain": [
       "             molecule   weight  boiling_point_celsius  boiling_point_kelvin\n",
       "0               Water   18.015                  100.0                374.15\n",
       "1      Carbon Dioxide   44.010                  -78.5                195.65\n",
       "2             Methane   16.040                 -161.5                112.65\n",
       "3             Ethanol   46.070                   78.3                352.45\n",
       "4              Oxygen   32.000                 -183.0                 91.15\n",
       "5            Nitrogen   28.010                 -196.0                 78.15\n",
       "6   Hydrogen Peroxide   34.010                  150.2                424.35\n",
       "7             Ammonia   17.030                  -33.3                240.85\n",
       "8       Sulfuric Acid   98.090                  337.0                611.15\n",
       "9         Acetic Acid   60.050                  118.1                392.25\n",
       "10           Methanol   32.040                   64.7                338.85\n",
       "11            Benzene   78.110                   80.1                354.25\n",
       "12           Ethylene   28.050                 -103.7                170.45\n",
       "13            Propane   44.100                  -42.1                232.05\n",
       "14             Butane   58.120                   -0.5                273.65\n",
       "15            Pentane   72.150                   36.1                310.25\n",
       "16             Hexane   86.180                   68.7                342.85\n",
       "17            Heptane  100.200                   98.4                372.55\n",
       "18             Octane  114.220                  125.7                399.85\n",
       "19             Nonane  128.250                  150.8                424.95\n",
       "20             Decane  142.280                  174.1                448.25\n",
       "21           Caffeine  194.190                  178.0                452.15\n",
       "22             Ethane   30.070                  -88.6                185.55"
      ]
     },
     "execution_count": 41,
     "metadata": {},
     "output_type": "execute_result"
    }
   ],
   "source": [
    "# Adding a column of transformed data\n",
    "df[\"boiling_point_kelvin\"] = df[\"boiling_point_celsius\"].apply(lambda x: x + 274.15)\n",
    "df"
   ]
  },
  {
   "cell_type": "code",
   "execution_count": 42,
   "metadata": {},
   "outputs": [
    {
     "data": {
      "text/html": [
       "<div>\n",
       "<style scoped>\n",
       "    .dataframe tbody tr th:only-of-type {\n",
       "        vertical-align: middle;\n",
       "    }\n",
       "\n",
       "    .dataframe tbody tr th {\n",
       "        vertical-align: top;\n",
       "    }\n",
       "\n",
       "    .dataframe thead th {\n",
       "        text-align: right;\n",
       "    }\n",
       "</style>\n",
       "<table border=\"1\" class=\"dataframe\">\n",
       "  <thead>\n",
       "    <tr style=\"text-align: right;\">\n",
       "      <th></th>\n",
       "      <th>molecule</th>\n",
       "      <th>weight</th>\n",
       "      <th>boiling_point_celsius</th>\n",
       "      <th>boiling_point_kelvin</th>\n",
       "    </tr>\n",
       "  </thead>\n",
       "  <tbody>\n",
       "    <tr>\n",
       "      <th>5</th>\n",
       "      <td>Nitrogen</td>\n",
       "      <td>28.010</td>\n",
       "      <td>-196.0</td>\n",
       "      <td>78.15</td>\n",
       "    </tr>\n",
       "    <tr>\n",
       "      <th>4</th>\n",
       "      <td>Oxygen</td>\n",
       "      <td>32.000</td>\n",
       "      <td>-183.0</td>\n",
       "      <td>91.15</td>\n",
       "    </tr>\n",
       "    <tr>\n",
       "      <th>2</th>\n",
       "      <td>Methane</td>\n",
       "      <td>16.040</td>\n",
       "      <td>-161.5</td>\n",
       "      <td>112.65</td>\n",
       "    </tr>\n",
       "    <tr>\n",
       "      <th>12</th>\n",
       "      <td>Ethylene</td>\n",
       "      <td>28.050</td>\n",
       "      <td>-103.7</td>\n",
       "      <td>170.45</td>\n",
       "    </tr>\n",
       "    <tr>\n",
       "      <th>22</th>\n",
       "      <td>Ethane</td>\n",
       "      <td>30.070</td>\n",
       "      <td>-88.6</td>\n",
       "      <td>185.55</td>\n",
       "    </tr>\n",
       "    <tr>\n",
       "      <th>1</th>\n",
       "      <td>Carbon Dioxide</td>\n",
       "      <td>44.010</td>\n",
       "      <td>-78.5</td>\n",
       "      <td>195.65</td>\n",
       "    </tr>\n",
       "    <tr>\n",
       "      <th>13</th>\n",
       "      <td>Propane</td>\n",
       "      <td>44.100</td>\n",
       "      <td>-42.1</td>\n",
       "      <td>232.05</td>\n",
       "    </tr>\n",
       "    <tr>\n",
       "      <th>7</th>\n",
       "      <td>Ammonia</td>\n",
       "      <td>17.030</td>\n",
       "      <td>-33.3</td>\n",
       "      <td>240.85</td>\n",
       "    </tr>\n",
       "    <tr>\n",
       "      <th>14</th>\n",
       "      <td>Butane</td>\n",
       "      <td>58.120</td>\n",
       "      <td>-0.5</td>\n",
       "      <td>273.65</td>\n",
       "    </tr>\n",
       "    <tr>\n",
       "      <th>15</th>\n",
       "      <td>Pentane</td>\n",
       "      <td>72.150</td>\n",
       "      <td>36.1</td>\n",
       "      <td>310.25</td>\n",
       "    </tr>\n",
       "    <tr>\n",
       "      <th>10</th>\n",
       "      <td>Methanol</td>\n",
       "      <td>32.040</td>\n",
       "      <td>64.7</td>\n",
       "      <td>338.85</td>\n",
       "    </tr>\n",
       "    <tr>\n",
       "      <th>16</th>\n",
       "      <td>Hexane</td>\n",
       "      <td>86.180</td>\n",
       "      <td>68.7</td>\n",
       "      <td>342.85</td>\n",
       "    </tr>\n",
       "    <tr>\n",
       "      <th>3</th>\n",
       "      <td>Ethanol</td>\n",
       "      <td>46.070</td>\n",
       "      <td>78.3</td>\n",
       "      <td>352.45</td>\n",
       "    </tr>\n",
       "    <tr>\n",
       "      <th>11</th>\n",
       "      <td>Benzene</td>\n",
       "      <td>78.110</td>\n",
       "      <td>80.1</td>\n",
       "      <td>354.25</td>\n",
       "    </tr>\n",
       "    <tr>\n",
       "      <th>17</th>\n",
       "      <td>Heptane</td>\n",
       "      <td>100.200</td>\n",
       "      <td>98.4</td>\n",
       "      <td>372.55</td>\n",
       "    </tr>\n",
       "    <tr>\n",
       "      <th>0</th>\n",
       "      <td>Water</td>\n",
       "      <td>18.015</td>\n",
       "      <td>100.0</td>\n",
       "      <td>374.15</td>\n",
       "    </tr>\n",
       "    <tr>\n",
       "      <th>9</th>\n",
       "      <td>Acetic Acid</td>\n",
       "      <td>60.050</td>\n",
       "      <td>118.1</td>\n",
       "      <td>392.25</td>\n",
       "    </tr>\n",
       "    <tr>\n",
       "      <th>18</th>\n",
       "      <td>Octane</td>\n",
       "      <td>114.220</td>\n",
       "      <td>125.7</td>\n",
       "      <td>399.85</td>\n",
       "    </tr>\n",
       "    <tr>\n",
       "      <th>6</th>\n",
       "      <td>Hydrogen Peroxide</td>\n",
       "      <td>34.010</td>\n",
       "      <td>150.2</td>\n",
       "      <td>424.35</td>\n",
       "    </tr>\n",
       "    <tr>\n",
       "      <th>19</th>\n",
       "      <td>Nonane</td>\n",
       "      <td>128.250</td>\n",
       "      <td>150.8</td>\n",
       "      <td>424.95</td>\n",
       "    </tr>\n",
       "    <tr>\n",
       "      <th>20</th>\n",
       "      <td>Decane</td>\n",
       "      <td>142.280</td>\n",
       "      <td>174.1</td>\n",
       "      <td>448.25</td>\n",
       "    </tr>\n",
       "    <tr>\n",
       "      <th>21</th>\n",
       "      <td>Caffeine</td>\n",
       "      <td>194.190</td>\n",
       "      <td>178.0</td>\n",
       "      <td>452.15</td>\n",
       "    </tr>\n",
       "    <tr>\n",
       "      <th>8</th>\n",
       "      <td>Sulfuric Acid</td>\n",
       "      <td>98.090</td>\n",
       "      <td>337.0</td>\n",
       "      <td>611.15</td>\n",
       "    </tr>\n",
       "  </tbody>\n",
       "</table>\n",
       "</div>"
      ],
      "text/plain": [
       "             molecule   weight  boiling_point_celsius  boiling_point_kelvin\n",
       "5            Nitrogen   28.010                 -196.0                 78.15\n",
       "4              Oxygen   32.000                 -183.0                 91.15\n",
       "2             Methane   16.040                 -161.5                112.65\n",
       "12           Ethylene   28.050                 -103.7                170.45\n",
       "22             Ethane   30.070                  -88.6                185.55\n",
       "1      Carbon Dioxide   44.010                  -78.5                195.65\n",
       "13            Propane   44.100                  -42.1                232.05\n",
       "7             Ammonia   17.030                  -33.3                240.85\n",
       "14             Butane   58.120                   -0.5                273.65\n",
       "15            Pentane   72.150                   36.1                310.25\n",
       "10           Methanol   32.040                   64.7                338.85\n",
       "16             Hexane   86.180                   68.7                342.85\n",
       "3             Ethanol   46.070                   78.3                352.45\n",
       "11            Benzene   78.110                   80.1                354.25\n",
       "17            Heptane  100.200                   98.4                372.55\n",
       "0               Water   18.015                  100.0                374.15\n",
       "9         Acetic Acid   60.050                  118.1                392.25\n",
       "18             Octane  114.220                  125.7                399.85\n",
       "6   Hydrogen Peroxide   34.010                  150.2                424.35\n",
       "19             Nonane  128.250                  150.8                424.95\n",
       "20             Decane  142.280                  174.1                448.25\n",
       "21           Caffeine  194.190                  178.0                452.15\n",
       "8       Sulfuric Acid   98.090                  337.0                611.15"
      ]
     },
     "execution_count": 42,
     "metadata": {},
     "output_type": "execute_result"
    }
   ],
   "source": [
    "# Sort by boiling point, low to high\n",
    "df.sort_values(by=\"boiling_point_celsius\")"
   ]
  },
  {
   "cell_type": "code",
   "execution_count": 43,
   "metadata": {},
   "outputs": [
    {
     "data": {
      "text/html": [
       "<div>\n",
       "<style scoped>\n",
       "    .dataframe tbody tr th:only-of-type {\n",
       "        vertical-align: middle;\n",
       "    }\n",
       "\n",
       "    .dataframe tbody tr th {\n",
       "        vertical-align: top;\n",
       "    }\n",
       "\n",
       "    .dataframe thead th {\n",
       "        text-align: right;\n",
       "    }\n",
       "</style>\n",
       "<table border=\"1\" class=\"dataframe\">\n",
       "  <thead>\n",
       "    <tr style=\"text-align: right;\">\n",
       "      <th></th>\n",
       "      <th>molecule</th>\n",
       "      <th>weight</th>\n",
       "      <th>boiling_point_celsius</th>\n",
       "      <th>boiling_point_kelvin</th>\n",
       "    </tr>\n",
       "  </thead>\n",
       "  <tbody>\n",
       "    <tr>\n",
       "      <th>8</th>\n",
       "      <td>Sulfuric Acid</td>\n",
       "      <td>98.090</td>\n",
       "      <td>337.0</td>\n",
       "      <td>611.15</td>\n",
       "    </tr>\n",
       "    <tr>\n",
       "      <th>21</th>\n",
       "      <td>Caffeine</td>\n",
       "      <td>194.190</td>\n",
       "      <td>178.0</td>\n",
       "      <td>452.15</td>\n",
       "    </tr>\n",
       "    <tr>\n",
       "      <th>20</th>\n",
       "      <td>Decane</td>\n",
       "      <td>142.280</td>\n",
       "      <td>174.1</td>\n",
       "      <td>448.25</td>\n",
       "    </tr>\n",
       "    <tr>\n",
       "      <th>19</th>\n",
       "      <td>Nonane</td>\n",
       "      <td>128.250</td>\n",
       "      <td>150.8</td>\n",
       "      <td>424.95</td>\n",
       "    </tr>\n",
       "    <tr>\n",
       "      <th>6</th>\n",
       "      <td>Hydrogen Peroxide</td>\n",
       "      <td>34.010</td>\n",
       "      <td>150.2</td>\n",
       "      <td>424.35</td>\n",
       "    </tr>\n",
       "    <tr>\n",
       "      <th>18</th>\n",
       "      <td>Octane</td>\n",
       "      <td>114.220</td>\n",
       "      <td>125.7</td>\n",
       "      <td>399.85</td>\n",
       "    </tr>\n",
       "    <tr>\n",
       "      <th>9</th>\n",
       "      <td>Acetic Acid</td>\n",
       "      <td>60.050</td>\n",
       "      <td>118.1</td>\n",
       "      <td>392.25</td>\n",
       "    </tr>\n",
       "    <tr>\n",
       "      <th>0</th>\n",
       "      <td>Water</td>\n",
       "      <td>18.015</td>\n",
       "      <td>100.0</td>\n",
       "      <td>374.15</td>\n",
       "    </tr>\n",
       "    <tr>\n",
       "      <th>17</th>\n",
       "      <td>Heptane</td>\n",
       "      <td>100.200</td>\n",
       "      <td>98.4</td>\n",
       "      <td>372.55</td>\n",
       "    </tr>\n",
       "    <tr>\n",
       "      <th>11</th>\n",
       "      <td>Benzene</td>\n",
       "      <td>78.110</td>\n",
       "      <td>80.1</td>\n",
       "      <td>354.25</td>\n",
       "    </tr>\n",
       "    <tr>\n",
       "      <th>3</th>\n",
       "      <td>Ethanol</td>\n",
       "      <td>46.070</td>\n",
       "      <td>78.3</td>\n",
       "      <td>352.45</td>\n",
       "    </tr>\n",
       "    <tr>\n",
       "      <th>16</th>\n",
       "      <td>Hexane</td>\n",
       "      <td>86.180</td>\n",
       "      <td>68.7</td>\n",
       "      <td>342.85</td>\n",
       "    </tr>\n",
       "    <tr>\n",
       "      <th>10</th>\n",
       "      <td>Methanol</td>\n",
       "      <td>32.040</td>\n",
       "      <td>64.7</td>\n",
       "      <td>338.85</td>\n",
       "    </tr>\n",
       "    <tr>\n",
       "      <th>15</th>\n",
       "      <td>Pentane</td>\n",
       "      <td>72.150</td>\n",
       "      <td>36.1</td>\n",
       "      <td>310.25</td>\n",
       "    </tr>\n",
       "    <tr>\n",
       "      <th>14</th>\n",
       "      <td>Butane</td>\n",
       "      <td>58.120</td>\n",
       "      <td>-0.5</td>\n",
       "      <td>273.65</td>\n",
       "    </tr>\n",
       "    <tr>\n",
       "      <th>7</th>\n",
       "      <td>Ammonia</td>\n",
       "      <td>17.030</td>\n",
       "      <td>-33.3</td>\n",
       "      <td>240.85</td>\n",
       "    </tr>\n",
       "    <tr>\n",
       "      <th>13</th>\n",
       "      <td>Propane</td>\n",
       "      <td>44.100</td>\n",
       "      <td>-42.1</td>\n",
       "      <td>232.05</td>\n",
       "    </tr>\n",
       "    <tr>\n",
       "      <th>1</th>\n",
       "      <td>Carbon Dioxide</td>\n",
       "      <td>44.010</td>\n",
       "      <td>-78.5</td>\n",
       "      <td>195.65</td>\n",
       "    </tr>\n",
       "    <tr>\n",
       "      <th>22</th>\n",
       "      <td>Ethane</td>\n",
       "      <td>30.070</td>\n",
       "      <td>-88.6</td>\n",
       "      <td>185.55</td>\n",
       "    </tr>\n",
       "    <tr>\n",
       "      <th>12</th>\n",
       "      <td>Ethylene</td>\n",
       "      <td>28.050</td>\n",
       "      <td>-103.7</td>\n",
       "      <td>170.45</td>\n",
       "    </tr>\n",
       "    <tr>\n",
       "      <th>2</th>\n",
       "      <td>Methane</td>\n",
       "      <td>16.040</td>\n",
       "      <td>-161.5</td>\n",
       "      <td>112.65</td>\n",
       "    </tr>\n",
       "    <tr>\n",
       "      <th>4</th>\n",
       "      <td>Oxygen</td>\n",
       "      <td>32.000</td>\n",
       "      <td>-183.0</td>\n",
       "      <td>91.15</td>\n",
       "    </tr>\n",
       "    <tr>\n",
       "      <th>5</th>\n",
       "      <td>Nitrogen</td>\n",
       "      <td>28.010</td>\n",
       "      <td>-196.0</td>\n",
       "      <td>78.15</td>\n",
       "    </tr>\n",
       "  </tbody>\n",
       "</table>\n",
       "</div>"
      ],
      "text/plain": [
       "             molecule   weight  boiling_point_celsius  boiling_point_kelvin\n",
       "8       Sulfuric Acid   98.090                  337.0                611.15\n",
       "21           Caffeine  194.190                  178.0                452.15\n",
       "20             Decane  142.280                  174.1                448.25\n",
       "19             Nonane  128.250                  150.8                424.95\n",
       "6   Hydrogen Peroxide   34.010                  150.2                424.35\n",
       "18             Octane  114.220                  125.7                399.85\n",
       "9         Acetic Acid   60.050                  118.1                392.25\n",
       "0               Water   18.015                  100.0                374.15\n",
       "17            Heptane  100.200                   98.4                372.55\n",
       "11            Benzene   78.110                   80.1                354.25\n",
       "3             Ethanol   46.070                   78.3                352.45\n",
       "16             Hexane   86.180                   68.7                342.85\n",
       "10           Methanol   32.040                   64.7                338.85\n",
       "15            Pentane   72.150                   36.1                310.25\n",
       "14             Butane   58.120                   -0.5                273.65\n",
       "7             Ammonia   17.030                  -33.3                240.85\n",
       "13            Propane   44.100                  -42.1                232.05\n",
       "1      Carbon Dioxide   44.010                  -78.5                195.65\n",
       "22             Ethane   30.070                  -88.6                185.55\n",
       "12           Ethylene   28.050                 -103.7                170.45\n",
       "2             Methane   16.040                 -161.5                112.65\n",
       "4              Oxygen   32.000                 -183.0                 91.15\n",
       "5            Nitrogen   28.010                 -196.0                 78.15"
      ]
     },
     "execution_count": 43,
     "metadata": {},
     "output_type": "execute_result"
    }
   ],
   "source": [
    "# Sort by boiling point, high to low\n",
    "df.sort_values(by=\"boiling_point_celsius\", ascending=False)"
   ]
  },
  {
   "cell_type": "markdown",
   "metadata": {},
   "source": [
    "## 3. Data Visualization with `matplotlib`\n",
    "\n",
    "**What it is**: Matplotlib is a plotting library for Python, providing an object-oriented API for embedding plots into applications. It's capable of producing a wide range of static, animated, and interactive visualizations in a variety of output formats.\n",
    "\n",
    "**Why it's used**: Matplotlib is the go-to library for creating graphs, charts, and figures in Python. It's highly customizable and can produce almost any kind of visualization you might need, from simple bar charts and line plots to complex scatter plots and histograms.\n",
    "\n",
    "**Usefulness in Chemical Sciences**: Visual representation of data is crucial in\n",
    "chemistry for understanding complex relationships, trends, and patterns. Matplotlib\n",
    "enables chemists to visualize experimental results, such as reaction rates or\n",
    "concentration changes over time, and to compare theoretical models with experimental\n",
    "data. It's also used in teaching to help explain complex concepts through visual aids.\n",
    "\n",
    "\n",
    "Let's plot some chemically-inspired data."
   ]
  },
  {
   "cell_type": "code",
   "execution_count": 44,
   "metadata": {},
   "outputs": [
    {
     "data": {
      "image/png": "[encoded data removed]",
      "text/plain": [
       "<Figure size 640x480 with 1 Axes>"
      ]
     },
     "metadata": {},
     "output_type": "display_data"
    }
   ],
   "source": [
    "elements = ['Li', 'Be', 'B', 'C', 'N', 'O', 'F', 'Ne']\n",
    "atomic_radii = [152, 112, 88, 77, 70, 66, 64, 58]  # in pm\n",
    "\n",
    "# Create a plot. Use a 'o' marker to plot scatter points\n",
    "fig, ax = plt.subplots()\n",
    "ax.plot(elements, atomic_radii, marker='o', linestyle='-', color='b')\n",
    "ax.set_title('Atomic Radii of the Elements in the Second Period')\n",
    "ax.set_xlabel('Element')\n",
    "ax.set_ylabel('Atomic Radii (pm)')\n",
    "ax.grid(True)"
   ]
  },
  {
   "cell_type": "code",
   "execution_count": 45,
   "metadata": {},
   "outputs": [
    {
     "data": {
      "text/plain": [
       "Text(0, 0.5, 'Ionization Energy (eV)')"
      ]
     },
     "execution_count": 45,
     "metadata": {},
     "output_type": "execute_result"
    },
    {
     "data": {
      "image/png": "[encoded data removed]",
      "text/plain": [
       "<Figure size 640x480 with 1 Axes>"
      ]
     },
     "metadata": {},
     "output_type": "display_data"
    }
   ],
   "source": [
    "elements = ['H', 'He', 'Li', 'Be']\n",
    "ionization_energies = [13.6, 24.6, 5.39, 9.32]  # in eV\n",
    "\n",
    "fig, ax = plt.subplots()\n",
    "ax.bar(elements, ionization_energies, color='green')\n",
    "ax.set_title('First Ionization Energies of Elements')\n",
    "ax.set_xlabel('Element')\n",
    "ax.set_ylabel('Ionization Energy (eV)')"
   ]
  },
  {
   "cell_type": "code",
   "execution_count": 47,
   "metadata": {},
   "outputs": [
    {
     "name": "stderr",
     "output_type": "stream",
     "text": [
      "C:\\Users\\Nichelle Sequeira\\AppData\\Local\\Temp\\ipykernel_8524\\3212535295.py:24: SettingWithCopyWarning: \n",
      "A value is trying to be set on a copy of a slice from a DataFrame.\n",
      "Try using .loc[row_indexer,col_indexer] = value instead\n",
      "\n",
      "See the caveats in the documentation: https://pandas.pydata.org/pandas-docs/stable/user_guide/indexing.html#returning-a-view-versus-a-copy\n",
      "  hcarbons_df[\"num_carbons\"] = [hydrocarbons[name] for name in hcarbons_df[\"molecule\"]]\n"
     ]
    },
    {
     "data": {
      "text/html": [
       "<div>\n",
       "<style scoped>\n",
       "    .dataframe tbody tr th:only-of-type {\n",
       "        vertical-align: middle;\n",
       "    }\n",
       "\n",
       "    .dataframe tbody tr th {\n",
       "        vertical-align: top;\n",
       "    }\n",
       "\n",
       "    .dataframe thead th {\n",
       "        text-align: right;\n",
       "    }\n",
       "</style>\n",
       "<table border=\"1\" class=\"dataframe\">\n",
       "  <thead>\n",
       "    <tr style=\"text-align: right;\">\n",
       "      <th></th>\n",
       "      <th>molecule</th>\n",
       "      <th>weight</th>\n",
       "      <th>boiling_point_celsius</th>\n",
       "      <th>num_carbons</th>\n",
       "    </tr>\n",
       "  </thead>\n",
       "  <tbody>\n",
       "    <tr>\n",
       "      <th>2</th>\n",
       "      <td>Methane</td>\n",
       "      <td>16.04</td>\n",
       "      <td>-161.5</td>\n",
       "      <td>1</td>\n",
       "    </tr>\n",
       "    <tr>\n",
       "      <th>13</th>\n",
       "      <td>Propane</td>\n",
       "      <td>44.10</td>\n",
       "      <td>-42.1</td>\n",
       "      <td>3</td>\n",
       "    </tr>\n",
       "    <tr>\n",
       "      <th>14</th>\n",
       "      <td>Butane</td>\n",
       "      <td>58.12</td>\n",
       "      <td>-0.5</td>\n",
       "      <td>4</td>\n",
       "    </tr>\n",
       "    <tr>\n",
       "      <th>15</th>\n",
       "      <td>Pentane</td>\n",
       "      <td>72.15</td>\n",
       "      <td>36.1</td>\n",
       "      <td>5</td>\n",
       "    </tr>\n",
       "    <tr>\n",
       "      <th>16</th>\n",
       "      <td>Hexane</td>\n",
       "      <td>86.18</td>\n",
       "      <td>68.7</td>\n",
       "      <td>6</td>\n",
       "    </tr>\n",
       "    <tr>\n",
       "      <th>17</th>\n",
       "      <td>Heptane</td>\n",
       "      <td>100.20</td>\n",
       "      <td>98.4</td>\n",
       "      <td>7</td>\n",
       "    </tr>\n",
       "    <tr>\n",
       "      <th>18</th>\n",
       "      <td>Octane</td>\n",
       "      <td>114.22</td>\n",
       "      <td>125.7</td>\n",
       "      <td>8</td>\n",
       "    </tr>\n",
       "    <tr>\n",
       "      <th>19</th>\n",
       "      <td>Nonane</td>\n",
       "      <td>128.25</td>\n",
       "      <td>150.8</td>\n",
       "      <td>9</td>\n",
       "    </tr>\n",
       "    <tr>\n",
       "      <th>20</th>\n",
       "      <td>Decane</td>\n",
       "      <td>142.28</td>\n",
       "      <td>174.1</td>\n",
       "      <td>10</td>\n",
       "    </tr>\n",
       "    <tr>\n",
       "      <th>22</th>\n",
       "      <td>Ethane</td>\n",
       "      <td>30.07</td>\n",
       "      <td>-88.6</td>\n",
       "      <td>2</td>\n",
       "    </tr>\n",
       "  </tbody>\n",
       "</table>\n",
       "</div>"
      ],
      "text/plain": [
       "   molecule  weight  boiling_point_celsius  num_carbons\n",
       "2   Methane   16.04                 -161.5            1\n",
       "13  Propane   44.10                  -42.1            3\n",
       "14   Butane   58.12                   -0.5            4\n",
       "15  Pentane   72.15                   36.1            5\n",
       "16   Hexane   86.18                   68.7            6\n",
       "17  Heptane  100.20                   98.4            7\n",
       "18   Octane  114.22                  125.7            8\n",
       "19   Nonane  128.25                  150.8            9\n",
       "20   Decane  142.28                  174.1           10\n",
       "22   Ethane   30.07                  -88.6            2"
      ]
     },
     "metadata": {},
     "output_type": "display_data"
    },
    {
     "data": {
      "text/plain": [
       "Text(0, 0.5, 'Molecular Weight (g/mol)')"
      ]
     },
     "execution_count": 47,
     "metadata": {},
     "output_type": "execute_result"
    },
    {
     "data": {
      "image/png": "[encoded data removed]",
      "text/plain": [
       "<Figure size 640x480 with 1 Axes>"
      ]
     },
     "metadata": {},
     "output_type": "display_data"
    }
   ],
   "source": [
    "# Load the data from before\n",
    "file_path = \"molecular_data.txt\"\n",
    "df = pd.read_csv(file_path, names=[\"molecule\", \"weight\", \"boiling_point_celsius\"], skiprows=1)\n",
    "df\n",
    "\n",
    "# Create a sub-dataframe for the linear hydrocarbons. First, let's create a dictionary\n",
    "# to map the names to the number of carbons.\n",
    "hydrocarbons = {\n",
    "    \"Methane\": 1,\n",
    "    \"Ethane\": 2,\n",
    "    \"Propane\": 3,\n",
    "    \"Butane\": 4,\n",
    "    \"Pentane\": 5,\n",
    "    \"Hexane\": 6,\n",
    "    \"Heptane\": 7,\n",
    "    \"Octane\": 8,\n",
    "    \"Nonane\": 9,\n",
    "    \"Decane\": 10,\n",
    "\n",
    "}\n",
    "hcarbons_df = df[df[\"molecule\"].isin(hydrocarbons.keys())]\n",
    "\n",
    "# Add this as a column in the dataframe\n",
    "hcarbons_df[\"num_carbons\"] = [hydrocarbons[name] for name in hcarbons_df[\"molecule\"]]\n",
    "display(hcarbons_df)\n",
    "\n",
    "# Plot the molecular weight against the number of carbons\n",
    "fig, ax = plt.subplots()\n",
    "ax.scatter(hcarbons_df[\"num_carbons\"], hcarbons_df[\"weight\"])\n",
    "\n",
    "# Add axes titles and labels\n",
    "ax.set_xlabel(\"Number of carbons\")\n",
    "ax.set_ylabel(\"Molecular Weight (g/mol)\")"
   ]
  },
  {
   "cell_type": "code",
   "execution_count": 48,
   "metadata": {},
   "outputs": [
    {
     "data": {
      "text/plain": [
       "<matplotlib.legend.Legend at 0x1a700282920>"
      ]
     },
     "execution_count": 48,
     "metadata": {},
     "output_type": "execute_result"
    },
    {
     "data": {
      "image/png": "[encoded data removed]",
      "text/plain": [
       "<Figure size 640x480 with 1 Axes>"
      ]
     },
     "metadata": {},
     "output_type": "display_data"
    }
   ],
   "source": [
    "# Plot both the molecular weight and boiling point on the same plot, using a secondary\n",
    "# axis\n",
    "fig, ax = plt.subplots()\n",
    "ax.scatter(hcarbons_df[\"num_carbons\"], hcarbons_df[\"weight\"], label=\"Molecular Weight (g/mol)\")\n",
    "ax.scatter(hcarbons_df[\"num_carbons\"], hcarbons_df[\"boiling_point_celsius\"], label=\"Boiling Point (°C)\")\n",
    "\n",
    "# Add a title and labels\n",
    "ax.set_xlabel(\"Number of carbons in hydrocarbon\")\n",
    "ax.set_ylabel(\"Molecular Weight (g/mol)\")\n",
    "ax.set_ylabel(\"Boiling Point (°C)\")\n",
    "ax.legend()"
   ]
  },
  {
   "cell_type": "code",
   "execution_count": 49,
   "metadata": {},
   "outputs": [
    {
     "data": {
      "text/plain": [
       "<matplotlib.legend.Legend at 0x1a7002aee00>"
      ]
     },
     "execution_count": 49,
     "metadata": {},
     "output_type": "execute_result"
    },
    {
     "data": {
      "image/png": "[encoded data removed]",
      "text/plain": [
       "<Figure size 640x480 with 1 Axes>"
      ]
     },
     "metadata": {},
     "output_type": "display_data"
    }
   ],
   "source": [
    "# Plot both the molecular weight and boiling point on the same plot, using a secondary\n",
    "# axis\n",
    "plt.scatter(hcarbons_df[\"num_carbons\"], hcarbons_df[\"weight\"], label=\"Molecular Weight (g/mol)\")\n",
    "plt.scatter(hcarbons_df[\"num_carbons\"], hcarbons_df[\"boiling_point_celsius\"], label=\"Boiling Point (°C)\")\n",
    "\n",
    "# Add a title and labels\n",
    "plt.xlabel(\"Number of carbons in hydrocarbon\")\n",
    "plt.ylabel(\"Molecular Weight (g/mol)\")\n",
    "plt.ylabel(\"Boiling Point (°C)\")\n",
    "plt.legend()"
   ]
  },
  {
   "cell_type": "markdown",
   "metadata": {},
   "source": [
    "Now it's your turn! \n",
    "\n",
    "1. Use a `Path` object to define the path to the reaction yield file from last week:\n",
    "   \"reaction_yields.txt\". This will be stored at relative path `../week_03/reaction_yields.txt`\n",
    "2. Create a `pandas` DataFrame by loading the data from this path\n",
    "2. Calculate the percentage yield, and add it as a new column in the DataFrame\n",
    "3. Plot a bar graph with `matplotlib`, where the x axis is the name of the scientist and\n",
    "   the y axis is the percentage yield.\n",
    "\n",
    "**Hint**: you'll need to inpsect the file to see what the ***delimiter*** is. Use the\n",
    "`pd.read_csv(...)` function with the `sep` (for the delimiter) and `skiprows` arguments."
   ]
  },
  {
   "cell_type": "code",
   "execution_count": 50,
   "metadata": {},
   "outputs": [
    {
     "data": {
      "text/html": [
       "<div>\n",
       "<style scoped>\n",
       "    .dataframe tbody tr th:only-of-type {\n",
       "        vertical-align: middle;\n",
       "    }\n",
       "\n",
       "    .dataframe tbody tr th {\n",
       "        vertical-align: top;\n",
       "    }\n",
       "\n",
       "    .dataframe thead th {\n",
       "        text-align: right;\n",
       "    }\n",
       "</style>\n",
       "<table border=\"1\" class=\"dataframe\">\n",
       "  <thead>\n",
       "    <tr style=\"text-align: right;\">\n",
       "      <th></th>\n",
       "      <th>scientist_name</th>\n",
       "      <th>theoretical_yield_grams</th>\n",
       "      <th>actual_yield_grams</th>\n",
       "      <th>percentage_yield</th>\n",
       "    </tr>\n",
       "  </thead>\n",
       "  <tbody>\n",
       "    <tr>\n",
       "      <th>0</th>\n",
       "      <td>Philippe</td>\n",
       "      <td>5.00</td>\n",
       "      <td>2.78</td>\n",
       "      <td>55.600000</td>\n",
       "    </tr>\n",
       "    <tr>\n",
       "      <th>1</th>\n",
       "      <td>Rebecca</td>\n",
       "      <td>4.00</td>\n",
       "      <td>2.00</td>\n",
       "      <td>50.000000</td>\n",
       "    </tr>\n",
       "    <tr>\n",
       "      <th>2</th>\n",
       "      <td>Sarina</td>\n",
       "      <td>0.10</td>\n",
       "      <td>0.09</td>\n",
       "      <td>90.000000</td>\n",
       "    </tr>\n",
       "    <tr>\n",
       "      <th>3</th>\n",
       "      <td>Joe</td>\n",
       "      <td>1000.00</td>\n",
       "      <td>1.00</td>\n",
       "      <td>0.100000</td>\n",
       "    </tr>\n",
       "    <tr>\n",
       "      <th>4</th>\n",
       "      <td>Daniel</td>\n",
       "      <td>3.14</td>\n",
       "      <td>2.00</td>\n",
       "      <td>63.694268</td>\n",
       "    </tr>\n",
       "  </tbody>\n",
       "</table>\n",
       "</div>"
      ],
      "text/plain": [
       "  scientist_name  theoretical_yield_grams  actual_yield_grams  \\\n",
       "0       Philippe                     5.00                2.78   \n",
       "1        Rebecca                     4.00                2.00   \n",
       "2         Sarina                     0.10                0.09   \n",
       "3            Joe                  1000.00                1.00   \n",
       "4         Daniel                     3.14                2.00   \n",
       "\n",
       "   percentage_yield  \n",
       "0         55.600000  \n",
       "1         50.000000  \n",
       "2         90.000000  \n",
       "3          0.100000  \n",
       "4         63.694268  "
      ]
     },
     "metadata": {},
     "output_type": "display_data"
    },
    {
     "data": {
      "text/plain": [
       "Text(0, 0.5, 'Percentage Yield')"
      ]
     },
     "execution_count": 50,
     "metadata": {},
     "output_type": "execute_result"
    },
    {
     "data": {
      "image/png": "[encoded data removed]",
      "text/plain": [
       "<Figure size 640x480 with 1 Axes>"
      ]
     },
     "metadata": {},
     "output_type": "display_data"
    }
   ],
   "source": [
    "# TODO: your code here\n",
    "\n",
    "import matplotlib.pyplot as plt\n",
    "\n",
    "# Read the data into a dataframe. Pass `sep=\" \"` to specify that the separator is a\n",
    "# space. Skip the first row with `skiprows=[0]` and specify the column names with\n",
    "# `names=...`.\n",
    "df = pd.read_csv(\n",
    "    \"../week_03/reaction_yields.txt\",\n",
    "    sep=\" \",  # here\n",
    "    skiprows=[0],\n",
    "    names=[\"scientist_name\", \"theoretical_yield_grams\", \"actual_yield_grams\"],\n",
    ")\n",
    "\n",
    "# Calculate the percentage yield and add it as a new column\n",
    "df[\"percentage_yield\"] = (\n",
    "    df[\"actual_yield_grams\"] / df[\"theoretical_yield_grams\"]\n",
    ") * 100\n",
    "display(df)\n",
    "\n",
    "# Plot a bar chart of the percentage yields\n",
    "fig, ax = plt.subplots()\n",
    "ax.bar(df[\"scientist_name\"], df[\"percentage_yield\"])\n",
    "ax.set_xlabel(\"Scientist\")\n",
    "ax.set_ylabel(\"Percentage Yield\")"
   ]
  },
  {
   "cell_type": "markdown",
   "metadata": {},
   "source": [
    "## How about some real data?\n",
    "\n",
    "Do you have some data from a recent lab experiment, in `.csv`, `.xlsx`, or `.txt` file\n",
    "format?\n",
    "\n",
    "If so and if you have time, try to read it into a pandas DataFrame and make some plots.\n",
    "The TAs would love to hear about your experiments - speak to us and we'll see what cool\n",
    "plots we can make with what you've learned already :)"
   ]
  },
  {
   "cell_type": "markdown",
   "metadata": {},
   "source": [
    "## Optional: `scipy` and `seaborn`\n",
    "\n",
    "Two packages that have not been introduced here, but provide extra functionality on top\n",
    "of `numpy` and `matplotlib`, respectively, are `scipy` and `seaborn`. So that you're\n",
    "aware of them, here are short descriptions and code examples.\n",
    "\n",
    "#### SciPy: Enhancing NumPy for Scientific Computing\n",
    "\n",
    "While NumPy provides the foundational array data structure and basic operations for\n",
    "numerical computing in Python, SciPy builds upon this foundation to offer a\n",
    "comprehensive collection of algorithms for scientific computing. SciPy, short for\n",
    "Scientific Python, is a library that provides modules for optimization, linear algebra,\n",
    "integration, interpolation, special functions, FFT, signal and image processing, ODE\n",
    "solvers, and other tasks common in science and engineering. \n",
    "\n",
    "Essentially, SciPy takes the capabilities of NumPy to the next level by adding a vast\n",
    "array of mathematical functions and algorithms for data manipulation and analysis. It's\n",
    "particularly valuable for tasks that require complex mathematical computations, such as\n",
    "solving differential equations, finding numerical integrals, or optimizing functions.\n",
    "\n",
    "This example demonstrates how SciPy can be used to solve a linear system of equations,\n",
    "which is a common task in scientific computing. The system of equations we'll solve is:\n",
    "\n",
    "3x + 2y = 5\n",
    "\n",
    "4x - y = 2"
   ]
  },
  {
   "cell_type": "code",
   "execution_count": 51,
   "metadata": {},
   "outputs": [
    {
     "data": {
      "text/plain": [
       "Text(0, 0.5, 'y')"
      ]
     },
     "execution_count": 51,
     "metadata": {},
     "output_type": "execute_result"
    },
    {
     "data": {
      "image/png": "[encoded data removed]",
      "text/plain": [
       "<Figure size 640x480 with 1 Axes>"
      ]
     },
     "metadata": {},
     "output_type": "display_data"
    }
   ],
   "source": [
    "# Plot the lines defined by the equations\n",
    "import matplotlib.pyplot as plt\n",
    "\n",
    "# Define the x values\n",
    "x = np.linspace(-10, 10, 100)\n",
    "y1 = 0.5 * (5 - 3 * x)\n",
    "y2 = 4 * x - 2\n",
    "\n",
    "fig, ax = plt.subplots()\n",
    "ax.plot(x, y1)\n",
    "ax.plot(x, y2)\n",
    "ax.set_xlabel(\"x\")\n",
    "ax.set_ylabel(\"y\")"
   ]
  },
  {
   "cell_type": "code",
   "execution_count": 54,
   "metadata": {},
   "outputs": [
    {
     "name": "stdout",
     "output_type": "stream",
     "text": [
      "Requirement already satisfied: scipy in c:\\users\\nichelle sequeira\\.conda\\envs\\ppchem\\lib\\site-packages (1.12.0)\n",
      "Requirement already satisfied: numpy<1.29.0,>=1.22.4 in c:\\users\\nichelle sequeira\\.conda\\envs\\ppchem\\lib\\site-packages (from scipy) (1.22.4)\n"
     ]
    }
   ],
   "source": [
    "# Un-comment and run to install scipy\n",
    "!pip install scipy"
   ]
  },
  {
   "cell_type": "code",
   "execution_count": 55,
   "metadata": {},
   "outputs": [
    {
     "name": "stdout",
     "output_type": "stream",
     "text": [
      "Solution: x = 0.8181818181818181, y = 1.2727272727272727\n"
     ]
    }
   ],
   "source": [
    "import numpy as np\n",
    "from scipy import linalg\n",
    "\n",
    "# Coefficients of the equations\n",
    "A = np.array([[3, 2], [4, -1]])\n",
    "\n",
    "# Right-hand side values\n",
    "b = np.array([5, 2])\n",
    "\n",
    "# Solving for x and y\n",
    "x_intersect, y_intersect = linalg.solve(A, b)\n",
    "\n",
    "print(f'Solution: x = {x_intersect}, y = {y_intersect}')"
   ]
  },
  {
   "cell_type": "code",
   "execution_count": 56,
   "metadata": {},
   "outputs": [
    {
     "data": {
      "text/plain": [
       "<matplotlib.legend.Legend at 0x1a71e6006a0>"
      ]
     },
     "execution_count": 56,
     "metadata": {},
     "output_type": "execute_result"
    },
    {
     "data": {
      "image/png": "[encoded data removed]",
      "text/plain": [
       "<Figure size 640x480 with 1 Axes>"
      ]
     },
     "metadata": {},
     "output_type": "display_data"
    }
   ],
   "source": [
    "# Re-plot the figure from above\n",
    "import matplotlib.pyplot as plt\n",
    "\n",
    "x = np.linspace(-10, 10, 100)\n",
    "y1 = 0.5 * (5 - 3 * x)\n",
    "y2 = 4 * x - 2\n",
    "\n",
    "fig, ax = plt.subplots()\n",
    "ax.plot(x, y1)\n",
    "ax.plot(x, y2)\n",
    "ax.set_xlabel(\"x\")\n",
    "ax.set_ylabel(\"y\")\n",
    "\n",
    "# Add the solution to the plot\n",
    "ax.axvline(x_intersect, linestyle=\"dashed\", color=\"gray\", label=f\"x = {x_intersect:.2f}\")\n",
    "ax.axhline(y_intersect, linestyle=\"dotted\", color=\"gray\", label=f\"y = {y_intersect:.2f}\")\n",
    "ax.legend()"
   ]
  },
  {
   "cell_type": "markdown",
   "metadata": {},
   "source": [
    "### Seaborn: Statistical Data Visualization\n",
    "\n",
    "Matplotlib is an incredibly flexible plotting library, allowing for the creation of a\n",
    "wide range of static, animated, and interactive plots. Seaborn builds on Matplotlib by\n",
    "providing a high-level interface for drawing attractive and informative statistical\n",
    "graphics. It is specifically designed to work well with pandas DataFrames, making it\n",
    "easier to visualize data from these structures. \n",
    "\n",
    "Seaborn simplifies the process of creating complex visualizations like heat maps, time\n",
    "series, and violin plots. It automatically applies default themes that are aesthetically\n",
    "pleasing and offers a rich set of options for customizing plots. Additionally, Seaborn\n",
    "includes functions for fitting and visualizing linear regression models, making it an\n",
    "invaluable tool for data analysis and exploration. By abstracting the complexity of\n",
    "Matplotlib, Seaborn enables researchers and data scientists to generate insights into\n",
    "their data through visualizations with less code.\n",
    "\n",
    "This example shows how Seaborn can be used to create a distribution plot, which is\n",
    "useful for visualizing the distribution of a dataset. We'll generate a random dataset\n",
    "using NumPy and then visualize it with Seaborn's distplot, which combines a histogram\n",
    "with a kernel density estimate (KDE)."
   ]
  },
  {
   "cell_type": "code",
   "execution_count": 58,
   "metadata": {},
   "outputs": [
    {
     "name": "stdout",
     "output_type": "stream",
     "text": [
      "Requirement already satisfied: seaborn in c:\\users\\nichelle sequeira\\.conda\\envs\\ppchem\\lib\\site-packages (0.13.2)\n",
      "Requirement already satisfied: numpy!=1.24.0,>=1.20 in c:\\users\\nichelle sequeira\\.conda\\envs\\ppchem\\lib\\site-packages (from seaborn) (1.22.4)\n",
      "Requirement already satisfied: pandas>=1.2 in c:\\users\\nichelle sequeira\\.conda\\envs\\ppchem\\lib\\site-packages (from seaborn) (1.5.3)\n",
      "Requirement already satisfied: matplotlib!=3.6.1,>=3.4 in c:\\users\\nichelle sequeira\\.conda\\envs\\ppchem\\lib\\site-packages (from seaborn) (3.4.3)\n",
      "Requirement already satisfied: cycler>=0.10 in c:\\users\\nichelle sequeira\\.conda\\envs\\ppchem\\lib\\site-packages (from matplotlib!=3.6.1,>=3.4->seaborn) (0.12.1)\n",
      "Requirement already satisfied: kiwisolver>=1.0.1 in c:\\users\\nichelle sequeira\\.conda\\envs\\ppchem\\lib\\site-packages (from matplotlib!=3.6.1,>=3.4->seaborn) (1.4.4)\n",
      "Requirement already satisfied: pillow>=6.2.0 in c:\\users\\nichelle sequeira\\.conda\\envs\\ppchem\\lib\\site-packages (from matplotlib!=3.6.1,>=3.4->seaborn) (10.2.0)\n",
      "Requirement already satisfied: pyparsing>=2.2.1 in c:\\users\\nichelle sequeira\\.conda\\envs\\ppchem\\lib\\site-packages (from matplotlib!=3.6.1,>=3.4->seaborn) (3.1.2)\n",
      "Requirement already satisfied: python-dateutil>=2.7 in c:\\users\\nichelle sequeira\\.conda\\envs\\ppchem\\lib\\site-packages (from matplotlib!=3.6.1,>=3.4->seaborn) (2.8.2)\n",
      "Requirement already satisfied: pytz>=2020.1 in c:\\users\\nichelle sequeira\\.conda\\envs\\ppchem\\lib\\site-packages (from pandas>=1.2->seaborn) (2024.1)\n",
      "Requirement already satisfied: six>=1.5 in c:\\users\\nichelle sequeira\\.conda\\envs\\ppchem\\lib\\site-packages (from python-dateutil>=2.7->matplotlib!=3.6.1,>=3.4->seaborn) (1.16.0)\n"
     ]
    }
   ],
   "source": [
    "# Un-comment and run to install seaborn\n",
    "!pip install seaborn"
   ]
  },
  {
   "cell_type": "code",
   "execution_count": 59,
   "metadata": {},
   "outputs": [
    {
     "name": "stderr",
     "output_type": "stream",
     "text": [
      "C:\\Users\\Nichelle Sequeira\\AppData\\Local\\Temp\\ipykernel_8524\\682351945.py:10: UserWarning: \n",
      "\n",
      "`distplot` is a deprecated function and will be removed in seaborn v0.14.0.\n",
      "\n",
      "Please adapt your code to use either `displot` (a figure-level function with\n",
      "similar flexibility) or `histplot` (an axes-level function for histograms).\n",
      "\n",
      "For a guide to updating your code to use the new functions, please see\n",
      "https://gist.github.com/mwaskom/de44147ed2974457ad6372750bbe5751\n",
      "\n",
      "  sns.distplot(data, bins=30, kde=True, color=\"blue\")\n"
     ]
    },
    {
     "data": {
      "image/png": "[encoded data removed]",
      "text/plain": [
       "<Figure size 640x480 with 1 Axes>"
      ]
     },
     "metadata": {},
     "output_type": "display_data"
    }
   ],
   "source": [
    "import numpy as np\n",
    "import seaborn as sns\n",
    "import matplotlib.pyplot as plt\n",
    "\n",
    "# Generate a random dataset\n",
    "data = np.random.normal(loc=0, scale=1, size=1000)\n",
    "\n",
    "# Create a distribution plot\n",
    "sns.set(style=\"whitegrid\")  # Set the style for the plot\n",
    "sns.distplot(data, bins=30, kde=True, color=\"blue\")\n",
    "\n",
    "plt.title('Distribution Plot of Random Data')\n",
    "plt.xlabel('Value')\n",
    "plt.ylabel('Density')\n",
    "plt.show()"
   ]
  },
  {
   "cell_type": "code",
   "execution_count": null,
   "metadata": {},
   "outputs": [],
   "source": []
  }
 ],
 "metadata": {
  "kernelspec": {
   "display_name": "Python 3 (ipykernel)",
   "language": "python",
   "name": "python3"
  },
  "language_info": {
   "codemirror_mode": {
    "name": "ipython",
    "version": 3
   },
   "file_extension": ".py",
   "mimetype": "text/x-python",
   "name": "python",
   "nbconvert_exporter": "python",
   "pygments_lexer": "ipython3",
   "version": "3.10.13"
  }
 },
 "nbformat": 4,
 "nbformat_minor": 4
}
