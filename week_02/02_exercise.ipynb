{
 "cells": [
  {
   "cell_type": "markdown",
   "metadata": {},
   "source": [
    "# Week 2 : Introduction to Jupyter Notebooks and Python basics.\n",
    "\n",
    "In Jupyter notebooks, you execute code by pressing a run button. To do this, hover over a block of code then press the 'play' button that appears on the left. You can also click on the block of code and simulanteously pressing SHIFT + ENTER.\n",
    "\n",
    "Run the code below."
   ]
  },
  {
   "cell_type": "code",
   "execution_count": 2,
   "metadata": {},
   "outputs": [
    {
     "name": "stdout",
     "output_type": "stream",
     "text": [
      "Hello world\n"
     ]
    }
   ],
   "source": [
    "print('Hello world')"
   ]
  },
  {
   "cell_type": "markdown",
   "metadata": {},
   "source": [
    "Q1a. \n",
    "\n",
    "In the class, you learned that any variable in python has a Type. The type determines how the variable is stored in your computers memory and what operations you can perform.\n",
    "\n",
    "Try out different ways of adding these variables together and assigning them to the variable `output`. Your code will only run once this is done correctly."
   ]
  },
  {
   "cell_type": "code",
   "execution_count": 11,
   "metadata": {},
   "outputs": [
    {
     "name": "stdout",
     "output_type": "stream",
     "text": [
      "Oxygen8\n"
     ]
    }
   ],
   "source": [
    "atom = 'Oxygen'\n",
    "atomic_number = 8\n",
    "\n",
    "### Your code here\n",
    "output = atom+str(atomic_number)\n",
    "\n",
    "assert output == 'Oxygen8'\n",
    "print(output)"
   ]
  },
  {
   "cell_type": "markdown",
   "metadata": {},
   "source": [
    "Q1b. \n",
    "\n",
    "Now try declearing a floating point variable and an integer and perform various operations on them. You should find that Python happily interconverts floats and integers"
   ]
  },
  {
   "cell_type": "code",
   "execution_count": 13,
   "metadata": {},
   "outputs": [
    {
     "name": "stdout",
     "output_type": "stream",
     "text": [
      "x=2\n",
      "y=2.5\n",
      "x+y=4.5\n",
      "x-y=-0.5\n",
      "x*y=5.0\n",
      "x/y=0.8\n",
      "x//y=0.0\n",
      "x**y=5.656854249492381\n",
      "x%y=2.0\n"
     ]
    }
   ],
   "source": [
    "x=2\n",
    "y=2.5\n",
    "\n",
    "addition=x+y\n",
    "substraction=x-y\n",
    "multiplication=x*y\n",
    "true_division=x/y\n",
    "floor_division=x//y\n",
    "exponential=x**y\n",
    "modulus=x%y\n",
    "\n",
    "print(f\"x={x}\")\n",
    "print(f\"y={y}\")\n",
    "print(f\"x+y={addition}\")\n",
    "print(f\"x-y={substraction}\")\n",
    "print(f\"x*y={multiplication}\")\n",
    "print(f\"x/y={true_division}\")\n",
    "print(f\"x//y={floor_division}\")\n",
    "print(f\"x**y={exponential}\")\n",
    "print(f\"x%y={modulus}\")"
   ]
  },
  {
   "cell_type": "markdown",
   "metadata": {},
   "source": [
    "Q1c.\n",
    " \n",
    "Now you have seen that Python has interoperability of certain variable types. \n",
    "\n",
    "Next we will look at boolean variables. These hold a single value, True or False. You can perform operations on them: 'AND', 'OR' and 'NOT'\n",
    "\n",
    "First, evaluate the expressions below by hand, then check yours answers with some python code.\n",
    "\n",
    "a = False\n",
    "b = True\n",
    "c = False\n",
    "\n",
    "1. a and b        = ...\n",
    "2. a or b         = ...\n",
    "3. not a          = ...\n",
    "4. not b and c    = ...\n",
    "5. (a and b) or c = ..."
   ]
  },
  {
   "cell_type": "code",
   "execution_count": 14,
   "metadata": {},
   "outputs": [
    {
     "name": "stdout",
     "output_type": "stream",
     "text": [
      "False\n",
      "True\n",
      "True\n",
      "False\n",
      "False\n"
     ]
    }
   ],
   "source": [
    "### in python, you can simply represent the boolean operators by their english language name\n",
    "a=False\n",
    "b=True\n",
    "c=False\n",
    "#1. \n",
    "print(a and b)\n",
    "#2.\n",
    "print(a or b)\n",
    "#3.\n",
    "print(not a)\n",
    "#4.\n",
    "print(not b and c)\n",
    "#5.\n",
    "print( (a and b) or c)\n"
   ]
  },
  {
   "cell_type": "markdown",
   "metadata": {},
   "source": [
    "\n",
    "\n",
    "Now we have a concept of booleans we can think about conditional statements. These are useful if you want to be able to execute seperate branches of code, depending on your input. An 'if' statement evaluates a boolean expression and in the case of an expression 'True' allows the code to enter the execution block. Blocks are marked by indents. \n",
    "\n",
    "First, WITHOUT running the code below, determine its output by hand. It is an important skill to be able to understand what a piece of code does without running it."
   ]
  },
  {
   "cell_type": "code",
   "execution_count": 15,
   "metadata": {},
   "outputs": [
    {
     "name": "stdout",
     "output_type": "stream",
     "text": [
      "Answer 3\n"
     ]
    }
   ],
   "source": [
    "#ANSWER:\n",
    "#I think the output will be: firstly, the first if; \"if a:\" is True since a=True (the boolean, not the string)\n",
    "#Then the code will not go into either \"if not c\" (as not c is False) nor \"elif c and b\" (as c and b is False), \n",
    "#hence, the output is: Answer 3\n",
    "a = True\n",
    "b = False\n",
    "c = True\n",
    "\n",
    "if a:\n",
    "    if not c:\n",
    "        print('Answer 1')\n",
    "    elif c and b:\n",
    "        print('Answer 2')\n",
    "    print('Answer 3')\n",
    "else:\n",
    "    print('Answer 4')"
   ]
  },
  {
   "cell_type": "markdown",
   "metadata": {},
   "source": [
    "Q1e. \n",
    "Sometimes we don't want to directly use booleans in our code. For this case, Python allows the evaluation of conditional statements on non-boolean inputs. Try out various combinations of the below variables with the goal of finding out what values for strings and integer data types evaluate to True or False."
   ]
  },
  {
   "cell_type": "code",
   "execution_count": 21,
   "metadata": {},
   "outputs": [
    {
     "name": "stdout",
     "output_type": "stream",
     "text": [
      "True\n",
      "True\n",
      "True\n",
      "False\n",
      "False\n",
      "True\n",
      "False\n",
      "------------\n",
      "True\n",
      "True\n",
      "True\n",
      "False\n",
      "False\n",
      "True\n",
      "False\n"
     ]
    }
   ],
   "source": [
    "a = 'Hydrogen'\n",
    "b = 'oxygen'\n",
    "c = 1\n",
    "d = 0\n",
    "e = ''\n",
    "f = -3\n",
    "g = None\n",
    "\n",
    "### Your code here\n",
    "x=[a,b,c,d,e,f,g]\n",
    "for index in x:\n",
    "        print(bool(index))\n",
    "#verification\n",
    "print(\"------------\")\n",
    "print(bool(a))\n",
    "print(bool(b))\n",
    "print(bool(c))\n",
    "print(bool(d))\n",
    "print(bool(e))\n",
    "print(bool(f))\n",
    "print(bool(g))"
   ]
  },
  {
   "cell_type": "markdown",
   "metadata": {},
   "source": [
    "# Lists\n",
    "\n",
    "Q2a. \n",
    "\n",
    "Now we have covered variables, we will look at ways of grouping said variables. There are called data structures. Formally, a data structure is a collection of data points which are organised using a set of rules.\n",
    "\n",
    "First we will look at the list data structure. A list stores a sequence of ordered variables. The variables can be of any type, and different types of variables are allowed in the same list. The elements in a list are 'indexed' using the set of postive integers starting from zero."
   ]
  },
  {
   "cell_type": "code",
   "execution_count": null,
   "metadata": {},
   "outputs": [],
   "source": [
    "# You can declare a list in python using the following syntax\n",
    "elements = [\"Hydrogen\", \"Helium\", \"Lithium\", \"Beryllium\", \"Boron\", \"Carbon\", \"Nitrogen\", \"Oxygen\", \"Fluorine\"]\n",
    "\n",
    "\n",
    "\n",
    "# You can put anything you want in a list, including other lists\n",
    "\n",
    "elements = [[\"Hydrogen\", \"Helium\", \"Lithium\"], [\"Beryllium\", \"Boron\", \"Carbon\"], [\"Nitrogen\", \"Oxygen\", \"Fluorine\"]]\n",
    "\n",
    "# You can also declare whacky lists like this\n",
    "\n",
    "whacky_list = [1, 'dog', 3.14, [4, 5, 6]]\n",
    "\n",
    "# Note that by creating a list of lists as above, we have effectively declared a matrix. \n",
    "# In CS terms, a matrix is a 2D array.\n"
   ]
  },
  {
   "cell_type": "markdown",
   "metadata": {},
   "source": [
    "Q2b .\n",
    "\n",
    "Although python allows lists with different types of variables, it is good practise to avoid this when writing code as it can lead to code that behaves in an unpredictable manner and that is tricky for other to understand\n",
    "\n",
    "Now its helpful to see some basic list operations."
   ]
  },
  {
   "cell_type": "markdown",
   "metadata": {},
   "source": [
    "You can access elements in a list by their indexes."
   ]
  },
  {
   "cell_type": "code",
   "execution_count": null,
   "metadata": {},
   "outputs": [],
   "source": [
    "element_list = [\"Hydrogen\", \"Helium\", \"Lithium\", \"Beryllium\", \"Boron\"]\n",
    "print(element_list[0])"
   ]
  },
  {
   "cell_type": "markdown",
   "metadata": {},
   "source": [
    "You can add elements to the list using the `.append` method."
   ]
  },
  {
   "cell_type": "code",
   "execution_count": 4,
   "metadata": {},
   "outputs": [
    {
     "name": "stdout",
     "output_type": "stream",
     "text": [
      "[1, 2, 3, 4]\n",
      "[1, 5, 2, 3, 4]\n",
      "[5, 2, 3, 4]\n",
      "5\n",
      "2\n",
      "[1, 3, 4]\n",
      "[]\n"
     ]
    }
   ],
   "source": [
    "\n",
    "element_list = [\"Hydrogen\", \"Helium\", \"Lithium\", \"Beryllium\", \"Boron\"]\n",
    "element_list.append(\"Lead\")\n",
    "print(element_list)"
   ]
  },
  {
   "cell_type": "markdown",
   "metadata": {},
   "source": [
    "To add an element to a list at a specific index, you can use the insert method. Write code to add the missing element to the list."
   ]
  },
  {
   "cell_type": "code",
   "execution_count": null,
   "metadata": {},
   "outputs": [],
   "source": [
    "element_list = [\"Hydrogen\", \"Lithium\", \"Beryllium\", \"Boron\"]\n",
    "element_list.insert(1, 'Helium')\n",
    "print(element_list)"
   ]
  },
  {
   "cell_type": "markdown",
   "metadata": {},
   "source": [
    "To remove an element from a list, you can use the remove method. When removing an element from a list, you must specify the value of the element you want to remove. Write code to remove the first element from the list"
   ]
  },
  {
   "cell_type": "code",
   "execution_count": null,
   "metadata": {},
   "outputs": [],
   "source": [
    "element_list.remove(\"Hydrogen\")\n",
    "print(element_list)"
   ]
  },
  {
   "cell_type": "markdown",
   "metadata": {},
   "source": [
    "The 'remove' function simply deletes the element, what If you want to retrieve the element and then delete it? You can use the pop method for this purpose. The pop method takes one argument, the index of the element you want to remove. It has interesting behavior when you don't specify an index, in this case it by default removes the last element from the list. Write code to remove the last element from the list, and then remove the second element. You can access lists in the reverse direction using negative indices, where '-1' refers to the last element, '-2' refers to the second last element and so on."
   ]
  },
  {
   "cell_type": "code",
   "execution_count": null,
   "metadata": {},
   "outputs": [],
   "source": [
    "element_list = [\"Hydrogen\", \"Helium\", \"Lithium\", \"Beryllium\", \"Boron\"]\n",
    "\n",
    "a = element_list.pop(-1)\n",
    "print(a)\n",
    "\n",
    "b = element_list.pop(1)\n",
    "print(b)\n",
    "\n",
    "print(element_list)"
   ]
  },
  {
   "cell_type": "markdown",
   "metadata": {},
   "source": [
    "You can delete all the elements using the clear method"
   ]
  },
  {
   "cell_type": "code",
   "execution_count": null,
   "metadata": {},
   "outputs": [],
   "source": [
    "element_list.clear()\n",
    "print(element_list)"
   ]
  },
  {
   "cell_type": "markdown",
   "metadata": {},
   "source": [
    "Now how about if we have two lists, and we want to combine them into a single list. For this we can just add them using the '+' operator"
   ]
  },
  {
   "cell_type": "code",
   "execution_count": 1,
   "metadata": {},
   "outputs": [
    {
     "name": "stdout",
     "output_type": "stream",
     "text": [
      "[1, 2, 3, 4, 5, 6]\n"
     ]
    }
   ],
   "source": [
    "element_list_1 = [\"Hydrogen\", \"Helium\", \"Lithium\", \"Beryllium\", \"Boron\"]\n",
    "element_list_2= [\"Nitrogen\", \"Oxygen\", \"Fluorine\"]\n",
    "element_list_3 = element_list_1 + element_list_2\n",
    "print(element_list_3)\n",
    "\n",
    "print(len(element_list_3))"
   ]
  },
  {
   "cell_type": "markdown",
   "metadata": {},
   "source": [
    "Next lets look at list *slicing*, this is the process of taking a list, and splitting it up into sub lists of arbitary size. Python provides a nice syntax to do this, which is outlined below. \n",
    "Here `start` is the index of the first element you want to include, and `end` is the index after the last one you want to include.\n",
    "\n",
    "Important: Python's slicing includes the `start` index's item but excludes the `end` index's item. This may seem strange, but it's designed to make it easy to divide and analyze portions of lists. So, when the list slicing is `0:3`, it actually refers to indices `0`, `1`, and `2`. Thus, the output of the above code will be `[1, 2, 3]`."
   ]
  },
  {
   "cell_type": "code",
   "execution_count": 9,
   "metadata": {},
   "outputs": [
    {
     "data": {
      "text/plain": [
       "['Hydrogen', 'Helium', 'Lithium']"
      ]
     },
     "execution_count": 9,
     "metadata": {},
     "output_type": "execute_result"
    }
   ],
   "source": [
    "element_list = [\"Hydrogen\", \"Helium\", \"Lithium\", \"Beryllium\", \"Boron\", \"Carbon\", \"Nitrogen\", \"Oxygen\", \"Fluorine\"]\n",
    "start = 0\n",
    "end = 3\n",
    "\n",
    "element_list[start:end]"
   ]
  },
  {
   "cell_type": "markdown",
   "metadata": {},
   "source": [
    "Q2d.\n",
    "\n",
    "Now write code to get the last 3 elements of the list"
   ]
  },
  {
   "cell_type": "code",
   "execution_count": 29,
   "metadata": {},
   "outputs": [
    {
     "name": "stdout",
     "output_type": "stream",
     "text": [
      "['Oxygen', 'Fluorine']\n"
     ]
    }
   ],
   "source": [
    "# last two elements\n",
    "element_list = [\"Hydrogen\", \"Helium\", \"Lithium\", \"Beryllium\", \"Boron\", \"Carbon\", \"Nitrogen\", \"Oxygen\", \"Fluorine\"]\n",
    "\n",
    "print([element_list[-2],element_list[-1]])"
   ]
  },
  {
   "cell_type": "markdown",
   "metadata": {},
   "source": [
    "Q2e.\n",
    "\n",
    "You can also access elements in steps using the following format\n",
    "\n",
    "list[start:end:step]\n",
    "\n",
    "Access every second element of the list, from indexes 0 to 5"
   ]
  },
  {
   "cell_type": "code",
   "execution_count": 33,
   "metadata": {},
   "outputs": [
    {
     "name": "stdout",
     "output_type": "stream",
     "text": [
      "['Hydrogen', 'Lithium', 'Boron']\n"
     ]
    }
   ],
   "source": [
    "# every second element from indexes 0 to 5\n",
    "element_list = [\"Hydrogen\", \"Helium\", \"Lithium\", \"Beryllium\", \"Boron\", \"Carbon\", \"Nitrogen\", \"Oxygen\", \"Fluorine\"]\n",
    "\n",
    "print(element_list[0:5:2])"
   ]
  },
  {
   "cell_type": "markdown",
   "metadata": {},
   "source": [
    "Q2f.\n",
    "\n",
    "Now access every second element of the whole list. Experiment with the input format to find two different ways of doing this\n"
   ]
  },
  {
   "cell_type": "code",
   "execution_count": 36,
   "metadata": {},
   "outputs": [
    {
     "name": "stdout",
     "output_type": "stream",
     "text": [
      "['Hydrogen', 'Lithium', 'Boron', 'Nitrogen', 'Fluorine']\n",
      "['Hydrogen', 'Lithium', 'Boron', 'Nitrogen', 'Fluorine']\n"
     ]
    }
   ],
   "source": [
    "# every second element of the whole list, two different formats\n",
    "element_list = [\"Hydrogen\", \"Helium\", \"Lithium\", \"Beryllium\", \"Boron\", \"Carbon\", \"Nitrogen\", \"Oxygen\", \"Fluorine\"]\n",
    "\n",
    "print(element_list[0::2])\n",
    "\n",
    "print([element_list[index] for index in range(len(element_list)) if index % 2 == 0])"
   ]
  },
  {
   "cell_type": "markdown",
   "metadata": {},
   "source": [
    "Q2h.\n",
    "\n",
    "As a final excerise on slicing, you will write code for finding the middle index of a list and then use list slicing to split the list into two sublists. Put it inside the function `split_list` and test it using the `test_split` function. When dividing a list in two, think about the edge cases you must consider. Will your code work for both even and odd length's of lists? What about empty lists? Remember that lists in Python have indexes which start from `0`, so the `7th` element has index `6`. Not correctly accounting for this is an extremely common problem in programming and can be tricky to debug."
   ]
  },
  {
   "cell_type": "markdown",
   "metadata": {},
   "source": [
    "First, implement the simplest case, where the list length is an even number and write code for this. Your output should be the middle index, and the two equal lenght halves of the list."
   ]
  },
  {
   "cell_type": "code",
   "execution_count": 10,
   "metadata": {},
   "outputs": [
    {
     "name": "stdout",
     "output_type": "stream",
     "text": [
      "(5, ['Hydrogen', 'Helium', 'Lithium', 'Beryllium', 'Boron'], ['Carbon', 'Nitrogen', 'Oxygen', 'Fluorine', 'Sodium'])\n",
      "(4, ['Hydrogen', 'Helium', 'Lithium', 'Beryllium'], ['Boron', 'Carbon', 'Nitrogen', 'Oxygen', 'Fluorine'])\n"
     ]
    }
   ],
   "source": [
    "test_even = [\"Hydrogen\", \"Helium\", \"Lithium\", \"Beryllium\", \"Boron\", \"Carbon\", \"Nitrogen\", \"Oxygen\", \"Fluorine\", \"Sodium\"]\n",
    "test_odd = [\"Hydrogen\", \"Helium\", \"Lithium\", \"Beryllium\", \"Boron\", \"Carbon\", \"Nitrogen\", \"Oxygen\", \"Fluorine\"]\n",
    "\n",
    "#middle_index = ...\n",
    "#first_half = ...\n",
    "#second_half = ...\n",
    "\n",
    "#assert (middle_index, first_half, second_half) == (5, [\"Hydrogen\", \"Helium\", \"Lithium\", \"Beryllium\", \"Boron\"], [\"Carbon\", \"Nitrogen\", \"Oxygen\", \"Fluorine\", \"Sodium\"])\n",
    "\n",
    "#### My Answer:\n",
    "def split_list(ls):\n",
    "    middle_index = len(ls) // 2\n",
    "    first_half = ls[:middle_index]\n",
    "    second_half = ls[middle_index:]\n",
    "    return middle_index, first_half, second_half\n",
    "\n",
    "print(split_list(test_even))\n",
    "print(split_list(test_odd))\n",
    "    \n",
    "    # Test the function\n",
    "#HELP - what to do for the following command?::::\n",
    "#assert (middle_index, first_half, second_half) == (5, [\"Hydrogen\", \"Helium\", \"Lithium\", \"Beryllium\", \"Boron\"], [\"Carbon\", \"Nitrogen\", \"Oxygen\", \"Fluorine\", \"Sodium\"])"
   ]
  },
  {
   "cell_type": "markdown",
   "metadata": {},
   "source": [
    "Now extend it to work with odd numbered lists. It is good practise when splitting lists into an even and odd partition, to have the longest segement be the lowest segement, this is indicated in the test case."
   ]
  },
  {
   "cell_type": "code",
   "execution_count": 17,
   "metadata": {},
   "outputs": [
    {
     "name": "stdout",
     "output_type": "stream",
     "text": [
      "even test = (5, ['Hydrogen', 'Helium', 'Lithium', 'Beryllium', 'Boron'], ['Carbon', 'Nitrogen', 'Oxygen', 'Fluorine', 'Sodium'])\n",
      "odd test = (4, ['Hydrogen', 'Helium', 'Lithium', 'Beryllium', 'Boron'], ['Carbon', 'Nitrogen', 'Oxygen', 'Fluorine'])\n"
     ]
    }
   ],
   "source": [
    "test_even = [\"Hydrogen\", \"Helium\", \"Lithium\", \"Beryllium\", \"Boron\", \"Carbon\", \"Nitrogen\", \"Oxygen\", \"Fluorine\", \"Sodium\"]\n",
    "test_odd = [\"Hydrogen\", \"Helium\", \"Lithium\", \"Beryllium\", \"Boron\", \"Carbon\", \"Nitrogen\", \"Oxygen\", \"Fluorine\"]\n",
    "\n",
    "#middle_index = ...\n",
    "#first_half = ...\n",
    "#second_half = ...\n",
    "\n",
    "#(middle_index, first_half, second_half) == (5, [\"Hydrogen\", \"Helium\", \"Lithium\", \"Beryllium\", \"Boron\"], [\"Carbon\", \"Nitrogen\", \"Oxygen\", \"Fluorine\"])\n",
    "\n",
    "def split_list(ls):\n",
    "    middle_index = len(ls) // 2\n",
    "    if len(ls)%2==0:\n",
    "        first_half = ls[:middle_index]\n",
    "        second_half = ls[middle_index:]\n",
    "    else:\n",
    "        first_half = ls[:middle_index+1]\n",
    "        second_half = ls[middle_index+1:]\n",
    "    return middle_index, first_half, second_half\n",
    "\n",
    "print(f\"even test = {split_list(test_even)}\")\n",
    "print(f\"odd test = {split_list(test_odd)}\")"
   ]
  },
  {
   "cell_type": "markdown",
   "metadata": {},
   "source": [
    "# Dictionaries\n",
    "\n",
    "Now we will move onto dictionaries. These store data in a set of key : value pairs. In a dictionary, all the keys must be unique, but many keys can hold the same value. This data structure is extremely useful. For example, we might want to store a set of people, and associated information about them. Generally if you have data which you want to search through frequently, using a dictionary is better than a list"
   ]
  },
  {
   "cell_type": "code",
   "execution_count": null,
   "metadata": {},
   "outputs": [],
   "source": [
    "# We declare a dictionary in python using the following syntax\n",
    "\n",
    "acid_bases = {'NaBH4' : 'Base', 'H2SO4' : 'Acid', 'NaOH' : 'Base'}"
   ]
  },
  {
   "cell_type": "code",
   "execution_count": null,
   "metadata": {},
   "outputs": [],
   "source": [
    "# You can access the value of a key in a dictionary using the following syntax\n",
    "\n",
    "print(acid_bases['NaBH4'])"
   ]
  },
  {
   "cell_type": "code",
   "execution_count": null,
   "metadata": {},
   "outputs": [],
   "source": [
    "# You can add a new key value pair to a dictionary using the following syntax\n",
    "\n",
    "acid_bases['HCl'] = 'Acid'\n"
   ]
  },
  {
   "cell_type": "code",
   "execution_count": 19,
   "metadata": {},
   "outputs": [
    {
     "name": "stdout",
     "output_type": "stream",
     "text": [
      "The key 'CH3' is not present in the dictionary.\n",
      "{'CH4': 4, 'C2H6': 6, 'C2H2': 2, 'C2H4': 4}\n"
     ]
    }
   ],
   "source": [
    "# Now declare a dictionary of your own, try assigning a new value to an existing key.\n",
    "# Try to access a key which is not present in the dictionary\n",
    "\n",
    "# Declare a dictionary\n",
    "num_hydrogens = {'CH4': 4, 'C2H6': 6, 'C2H2': 2}\n",
    "\n",
    "# Assign a new value to an existing key\n",
    "num_hydrogens['C2H4'] = 4\n",
    "\n",
    "# Try to access a key which is not present in the dictionary\n",
    "# This will raise a KeyError\n",
    "try:\n",
    "    print(num_hydrogens['CH3'])\n",
    "except KeyError:\n",
    "    print(\"The key 'CH3' is not present in the dictionary.\")\n",
    "\n",
    "# Print the updated dictionary\n",
    "print(num_hydrogens)\n"
   ]
  },
  {
   "cell_type": "code",
   "execution_count": null,
   "metadata": {},
   "outputs": [],
   "source": [
    "# You can delete a key value pair from a dictionary using the del keyword\n",
    "del acid_bases['HCl']"
   ]
  },
  {
   "cell_type": "markdown",
   "metadata": {},
   "source": [
    "# Loops\n"
   ]
  },
  {
   "cell_type": "markdown",
   "metadata": {},
   "source": [
    "Now we will have a look at control flow in code. If you have a collection of elements like a list, you might want to iterate over each element and peform an action. First, lets look at the `while` loop. This loops checks a condition, and then if the condition evaluates to `True`, executes a block of code. After the code block is executed it returns to the condition and checks it again. "
   ]
  },
  {
   "cell_type": "code",
   "execution_count": 20,
   "metadata": {},
   "outputs": [
    {
     "name": "stdout",
     "output_type": "stream",
     "text": [
      "Current pH: 2\n",
      "Solution is too acidic. Adding a base to increase pH.\n",
      "Current pH: 3\n",
      "Solution is too acidic. Adding a base to increase pH.\n",
      "Current pH: 4\n",
      "Solution is too acidic. Adding a base to increase pH.\n",
      "Current pH: 5\n",
      "Solution is too acidic. Adding a base to increase pH.\n",
      "Current pH: 6\n",
      "Solution is too acidic. Adding a base to increase pH.\n",
      "Solution is now neutral.\n"
     ]
    }
   ],
   "source": [
    "pH = 2  # Assume we start the pH at 2 (which is acidic)\n",
    "\n",
    "while pH != 7:  # while the pH is not neutral\n",
    "    print(f\"Current pH: {pH}\")\n",
    "    if pH < 7:  # if the environment is acidic\n",
    "        print(\"Solution is too acidic. Adding a base to increase pH.\")\n",
    "        pH += 1  # add a base to increase the pH\n",
    "    elif pH > 7:  # if the environment is basic\n",
    "        print(\"Solution is too basic. Adding an acid to decrease pH.\")\n",
    "        pH -= 1  # add an acid to reduce the pH\n",
    "        \n",
    "print(\"Solution is now neutral.\")"
   ]
  },
  {
   "cell_type": "markdown",
   "metadata": {},
   "source": [
    "We can also use `while` loops to iterate over a sequence of numbers."
   ]
  },
  {
   "cell_type": "code",
   "execution_count": 21,
   "metadata": {},
   "outputs": [
    {
     "name": "stdout",
     "output_type": "stream",
     "text": [
      "Element 1: Hydrogen\n",
      "Element 2: Helium\n",
      "Element 3: Lithium\n",
      "Element 4: Beryllium\n",
      "Element 5: Boron\n",
      "Element 6: Carbon\n",
      "Element 7: Nitrogen\n",
      "Element 8: Oxygen\n",
      "Element 9: Fluorine\n"
     ]
    }
   ],
   "source": [
    "counter = 0\n",
    "max_count = 9\n",
    "\n",
    "# Here is the list of the first nine chemical elements:\n",
    "elements = [\"Hydrogen\", \"Helium\", \"Lithium\", \"Beryllium\", \"Boron\", \"Carbon\", \"Nitrogen\", \"Oxygen\", \"Fluorine\"]\n",
    "\n",
    "while counter < max_count:\n",
    "    # Here we print the element at the current index\n",
    "    # Note the adjustment for 0-based indexing\n",
    "    print(f\"Element {counter + 1}: {elements[counter]}\")\n",
    "    counter += 1"
   ]
  },
  {
   "cell_type": "markdown",
   "metadata": {},
   "source": [
    "We can use two additional control flows in iterations.. `break` immediately terminates the loop iterations and `continue` skips the current iteration of the loop, but the loop continues to run.\n",
    "\n",
    "Given this information, what will be the output of the program below?"
   ]
  },
  {
   "cell_type": "code",
   "execution_count": 23,
   "metadata": {},
   "outputs": [
    {
     "name": "stdout",
     "output_type": "stream",
     "text": [
      "Iron\n",
      "Zinc\n"
     ]
    }
   ],
   "source": [
    "#My Answer: The output will be [\"Iron\", \"Zinc\"] because;\n",
    "#first iteration: we don't enter the first nor second \"if\", we print \"Iron\"\n",
    "#second iteration: we enter the first \"if\" and continue, therefore don't print \"Copper\"\n",
    "#third iteration: we don't enter the first nor second \"if\", we print \"Zinc\" \n",
    "#fourth iteration: we enter the second \"if\" and break, therefore don't print \"Gold\" and come out of the \"for\" loop\n",
    "elements = [\"Iron\", \"Copper\", \"Zinc\", \"Gold\", \"Silver\", \"Platinum\"]\n",
    "\n",
    "for element in elements:\n",
    "    if element == \"Copper\":\n",
    "        continue\n",
    "    if element == \"Gold\":\n",
    "        break\n",
    "    print(element)"
   ]
  },
  {
   "cell_type": "markdown",
   "metadata": {},
   "source": [
    "Q3a. You have a concentrated substance and want dilute it by halving its concentration until you reach a desired concentration. We are interested in knowing how many times you need to dilute a substance to get from a certain initial concentration to a particular final concentration. \n",
    "\n",
    "Specifically, you are given an initial concentration of 50 g/L and desire a final concentration of 3 g/L. Each dilution process halve the current concentration. Compute how many times the dilution has to take place to reach or go below the desired final concentration."
   ]
  },
  {
   "cell_type": "code",
   "execution_count": 24,
   "metadata": {},
   "outputs": [
    {
     "name": "stdout",
     "output_type": "stream",
     "text": [
      "The substance needs to be diluted 5 times to reach the desired concentration.\n"
     ]
    }
   ],
   "source": [
    "initial_concentration = 50\n",
    "\n",
    "final_concentration = 3\n",
    "\n",
    "# Counter for the number of dilutions\n",
    "dilution_count = 0\n",
    "\n",
    "#MY CODE:\n",
    "def dilution_steps(initial_concentration, final_concentration):\n",
    "    steps = 0\n",
    "    while initial_concentration >= final_concentration:\n",
    "        initial_concentration /= 2\n",
    "        steps += 1\n",
    "    return steps\n",
    "\n",
    "# Calculate the number of dilution steps needed\n",
    "steps_needed = dilution_steps(initial_concentration, final_concentration)\n",
    "\n",
    "print(f\"The substance needs to be diluted {steps_needed} times to reach the desired concentration.\".format(dilution_count))"
   ]
  },
  {
   "cell_type": "markdown",
   "metadata": {},
   "source": [
    "From the previous example where we printed off the elements of a list instead of iterating through a list of numbers and accessing the element at that position in the list, we could directly iterate over the list elements. Python provides the `for` loop for this. The `for` loop requires a data type called and `iterable` which is defined as anything that consists of a sequence of elements.\n",
    "\n",
    "Below we use a for loop to directly iterate over the list of elements. The loop automatically stops once it reaches the end of the list."
   ]
  },
  {
   "cell_type": "code",
   "execution_count": 25,
   "metadata": {},
   "outputs": [
    {
     "name": "stdout",
     "output_type": "stream",
     "text": [
      "Hydrogen\n",
      "Helium\n",
      "Lithium\n",
      "Beryllium\n",
      "Boron\n",
      "Carbon\n",
      "Nitrogen\n",
      "Oxygen\n",
      "Fluorine\n"
     ]
    }
   ],
   "source": [
    "elements = [\"Hydrogen\", \"Helium\", \"Lithium\", \"Beryllium\", \"Boron\", \"Carbon\", \"Nitrogen\", \"Oxygen\", \"Fluorine\"]\n",
    "\n",
    "for element in elements:\n",
    "    print(element)"
   ]
  },
  {
   "cell_type": "markdown",
   "metadata": {},
   "source": [
    "We can also iterate in reverse order."
   ]
  },
  {
   "cell_type": "code",
   "execution_count": 26,
   "metadata": {},
   "outputs": [
    {
     "name": "stdout",
     "output_type": "stream",
     "text": [
      "Fluorine\n",
      "Oxygen\n",
      "Nitrogen\n",
      "Carbon\n",
      "Boron\n",
      "Beryllium\n",
      "Lithium\n",
      "Helium\n",
      "Hydrogen\n"
     ]
    }
   ],
   "source": [
    "elements = [\"Hydrogen\", \"Helium\", \"Lithium\", \"Beryllium\", \"Boron\", \"Carbon\", \"Nitrogen\", \"Oxygen\", \"Fluorine\"]\n",
    "\n",
    "for element in reversed(elements):\n",
    "    print(element)"
   ]
  },
  {
   "cell_type": "markdown",
   "metadata": {},
   "source": [
    "If we want to know the atomic number we can do the following, with a correction for 0-indexing."
   ]
  },
  {
   "cell_type": "code",
   "execution_count": 27,
   "metadata": {},
   "outputs": [
    {
     "name": "stdout",
     "output_type": "stream",
     "text": [
      "Hydrogen: 1\n",
      "Helium: 2\n",
      "Lithium: 3\n",
      "Beryllium: 4\n",
      "Boron: 5\n",
      "Carbon: 6\n",
      "Nitrogen: 7\n",
      "Oxygen: 8\n",
      "Fluorine: 9\n"
     ]
    }
   ],
   "source": [
    "elements = [\"Hydrogen\", \"Helium\", \"Lithium\", \"Beryllium\", \"Boron\", \"Carbon\", \"Nitrogen\", \"Oxygen\", \"Fluorine\"]\n",
    "for idx, element in enumerate(elements):\n",
    "    print(f\"{element}: {idx + 1}\")"
   ]
  },
  {
   "cell_type": "markdown",
   "metadata": {},
   "source": [
    "Its important to know that modifying the 'element' that the for loop produces does not alter the original list."
   ]
  },
  {
   "cell_type": "code",
   "execution_count": 28,
   "metadata": {},
   "outputs": [
    {
     "name": "stdout",
     "output_type": "stream",
     "text": [
      "['Hydrogen', 'Helium', 'Lithium', 'Beryllium', 'Boron', 'Carbon', 'Nitrogen', 'Oxygen', 'Fluorine']\n"
     ]
    }
   ],
   "source": [
    "elements = [\"Hydrogen\", \"Helium\", \"Lithium\", \"Beryllium\", \"Boron\", \"Carbon\", \"Nitrogen\", \"Oxygen\", \"Fluorine\"]\n",
    "\n",
    "for idx, element in enumerate(reversed(elements)):\n",
    "    element = element.lower() + ' : ' + str(idx + 1)\n",
    "\n",
    "print(elements)"
   ]
  },
  {
   "cell_type": "markdown",
   "metadata": {},
   "source": [
    "If we wish to modify the original list, we can try the naive approach below. The code is trying to reverse the list and add atomic numbers. Before running the code, can you see what will go wrong?"
   ]
  },
  {
   "cell_type": "code",
   "execution_count": 1,
   "metadata": {},
   "outputs": [
    {
     "name": "stdout",
     "output_type": "stream",
     "text": [
      "['fluorine : 9', 'oxygen : 8', 'nitrogen : 7', 'carbon : 6', 'boron : 5', 'carbon : 6 : 4', 'nitrogen : 7 : 3', 'oxygen : 8 : 2', 'fluorine : 9 : 1']\n"
     ]
    }
   ],
   "source": [
    "elements = [\"Hydrogen\", \"Helium\", \"Lithium\", \"Beryllium\", \"Boron\", \"Carbon\", \"Nitrogen\", \"Oxygen\", \"Fluorine\"]\n",
    "\n",
    "for idx, element in enumerate(reversed(elements)):\n",
    "    elements[idx] = element.lower() + ' : ' + str(len(elements) - idx)\n",
    "\n",
    "print(elements)"
   ]
  },
  {
   "cell_type": "markdown",
   "metadata": {},
   "source": [
    "Lets try a different approach. Declare a new list, iterate through the original list and place the result of your desired modification in the new list, then assign the new list to the old list. Use this technique to reverse ordering of the `elements` list. Do this without using the in-built `reverse()` method."
   ]
  },
  {
   "cell_type": "code",
   "execution_count": 30,
   "metadata": {},
   "outputs": [
    {
     "name": "stdout",
     "output_type": "stream",
     "text": [
      "['Fluorine', 'Oxygen', 'Nitrogen', 'Carbon', 'Boron', 'Beryllium', 'Lithium', 'Helium', 'Hydrogen']\n"
     ]
    }
   ],
   "source": [
    "elements = [\"Hydrogen\", \"Helium\", \"Lithium\", \"Beryllium\", \"Boron\", \"Carbon\", \"Nitrogen\", \"Oxygen\", \"Fluorine\"]\n",
    "new_elements = []\n",
    "\n",
    "#MY CODE:\n",
    "i=0\n",
    "for x in elements:\n",
    "    i=i-1\n",
    "    new_elements.append(elements[i])\n",
    "\n",
    "elements=new_elements\n",
    "\n",
    "print(elements)"
   ]
  },
  {
   "cell_type": "markdown",
   "metadata": {},
   "source": [
    "Q3b. (Optional)\n",
    "Now lets consider reversing a list.\n",
    "Can you think of a way to reverse a list *without* creating a new list and copying the results over? "
   ]
  },
  {
   "cell_type": "code",
   "execution_count": 31,
   "metadata": {},
   "outputs": [
    {
     "name": "stdout",
     "output_type": "stream",
     "text": [
      "['Fluorine', 'Oxygen', 'Nitrogen', 'Carbon', 'Boron', 'Beryllium', 'Lithium', 'Helium', 'Hydrogen']\n"
     ]
    }
   ],
   "source": [
    "elements = [\"Hydrogen\", \"Helium\", \"Lithium\", \"Beryllium\", \"Boron\", \"Carbon\", \"Nitrogen\", \"Oxygen\", \"Fluorine\"]\n",
    "\n",
    "#MY CODE:\n",
    "elements = [\"Hydrogen\", \"Helium\", \"Lithium\", \"Beryllium\", \"Boron\", \"Carbon\", \"Nitrogen\", \"Oxygen\", \"Fluorine\"]\n",
    "\n",
    "# Iterate through the list up to the middle\n",
    "for i in range(len(elements)//2):\n",
    "    elements[i], elements[len(elements) - i - 1] = elements[len(elements) - i - 1], elements[i]\n",
    "\n",
    "print(elements)"
   ]
  },
  {
   "cell_type": "markdown",
   "metadata": {},
   "source": [
    "Q3c. For this and the following questions, your task is to work out what ouput the code will give WITHOUT running it. Then check your answer by executing the program. If you get them wrong, try to go through the code step by step and ask double check your assumptions about how each line of code works."
   ]
  },
  {
   "cell_type": "code",
   "execution_count": null,
   "metadata": {},
   "outputs": [],
   "source": [
    "#My Answer:\n",
    "#10\n",
    "#9\n",
    "#8\n",
    "#7\n",
    "#6\n",
    "#5\n",
    "#4\n",
    "#3\n",
    "#2\n",
    "\n",
    "numa = 11\n",
    "while numa > 2.5:\n",
    "    numa = numa - 1\n",
    "    print(numa)"
   ]
  },
  {
   "cell_type": "markdown",
   "metadata": {},
   "source": [
    "Q3d."
   ]
  },
  {
   "cell_type": "code",
   "execution_count": null,
   "metadata": {},
   "outputs": [],
   "source": [
    "#My Answer:\n",
    "#0.0\n",
    "#0.8\n",
    "#1.6\n",
    "#2.4\n",
    "#3.2\n",
    "numb = 2.5\n",
    "for i in range(0, 10, 2):\n",
    "    pass\n",
    "    print(i/numb)\n"
   ]
  },
  {
   "cell_type": "markdown",
   "metadata": {},
   "source": [
    "Q3e."
   ]
  },
  {
   "cell_type": "code",
   "execution_count": 34,
   "metadata": {},
   "outputs": [
    {
     "name": "stdout",
     "output_type": "stream",
     "text": [
      "10.2\n",
      "9.2\n",
      "8.2\n",
      "7.199999999999999\n"
     ]
    }
   ],
   "source": [
    "#My Answer: \n",
    "#10.2\n",
    "#9.2\n",
    "#8.2\n",
    "#7.199999999999999\n",
    "\n",
    "numc = 10.2 \n",
    "while True:\n",
    "    if numc < 6.2:\n",
    "        break\n",
    "    print(numc)\n",
    "    numc -= 1"
   ]
  },
  {
   "cell_type": "markdown",
   "metadata": {},
   "source": [
    "Q3f."
   ]
  },
  {
   "cell_type": "code",
   "execution_count": 35,
   "metadata": {},
   "outputs": [
    {
     "name": "stdout",
     "output_type": "stream",
     "text": [
      "Collected string is 0124F0124F?!?\n"
     ]
    }
   ],
   "source": [
    "#My Answer: Collected string is 0124F0124F?!?\n",
    "collected_strings = []\n",
    "\n",
    "for i in range(1, 5):\n",
    "    if i % 2 == 0:  \n",
    "        for j in range(5):\n",
    "            if j == 3:\n",
    "                break\n",
    "                collected_strings.append(str(j))\n",
    "        collected_strings.append(str('F'))\n",
    "    else:  \n",
    "        for j in range(5):\n",
    "            if j == 3:\n",
    "                continue\n",
    "            elif j == 4:\n",
    "                pass\n",
    "            collected_strings.append(str(j))\n",
    "\n",
    "for i in range(3):\n",
    "    if i == 1:\n",
    "        collected_strings.append(\"!\")\n",
    "        continue\n",
    "    collected_strings.append(\"?\")\n",
    "\n",
    "collect_str = \"\".join(collected_strings)\n",
    "print(f'Collected string is {collect_str}')"
   ]
  },
  {
   "cell_type": "markdown",
   "metadata": {},
   "source": [
    "Q3g. \n",
    "\n",
    "The code provided in this question is buggy. Do not execute it. What do you think the programmer intended this code to do? Jot down a table that shows the value of the variables at each iteration. This should give you a clear understand of why the code is buggy. Once you have done so, modify the code such that it is no longer buggy. Note due to the lack of comments indicating what the code is attempting to do, there are several possible answers for this."
   ]
  },
  {
   "cell_type": "code",
   "execution_count": null,
   "metadata": {},
   "outputs": [],
   "source": [
    "#My Answer:\n",
    "\n",
    "#What's happening?\n",
    "    #As long as \"i\" is positive\n",
    "        #If \"i\" is even --> i%2==0 is True --> we will halve i\n",
    "        #If \"i\" is negative --> we enter else --> we will add 1 to i\n",
    "#Let's take i=10 -->\n",
    "    #1) i is even, therefore we will halve it --> i=5\n",
    "    #2 now that i=5 --> we will enter else hence add 1--> i=6\n",
    "    #3 now that i=6 --> we will halve it ... \n",
    "    #... repeat like chatgpt shows, oscillate between 1 and 2 \n",
    "\n",
    "#PROBLEM:The loop will continue to alternate between reducing \"i\" by half and incrementing \"i\" by 1 indefinitely.\n",
    "\n",
    "#What was the aim --> To halve until we get a value of 1\n",
    "    \n",
    "    #ChatGPT shows what the action would have looked like\n",
    "#Iteration\t       \"i\"\t      Action\n",
    "#1\t\t \t \t  10          i is even, so i = 10 / 2 = 5\n",
    "#2\t\t \t      5           i is odd, so i = 5 + 1 = 6\n",
    "#3\t\t \t \t  6\t          i is even, so i = 6 / 2 = 3\n",
    "#4\t\t \t \t  3\t          i is odd, so i = 3 + 1 = 4\n",
    "#5\t\t \t \t  4\t          i is even, so i = 4 / 2 = 2\n",
    "#6\t\t \t \t  2\t          i is even, so i = 2 / 2 = 1\n",
    "#7\t\t \t \t  1\t          i is odd, so i = 1 + 1 = 2\n",
    "#8\t\t \t \t  2\t          i is even, so i = 2 / 2 = 1\n",
    "#9\t\t \t \t  1\t          i is odd, so i = 1 + 1 = 2\n",
    "#10\t\t \t \t  2\t          i is even, so i = 2 / 2 = 1\n",
    "#11\t\t \t \t  1\t          i is odd, so i = 1 + 1 = 2\n",
    "\n",
    "#... ... ...\n",
    "\n",
    "#The code that was given\n",
    "#n = 10 \n",
    "#i = 10\n",
    "#while i > 0:\n",
    "#    if i % 2 == 0:\n",
    "#        i=i/2\n",
    "#    else: \n",
    "#        i=i+1\n",
    "\n",
    "#Solved Code:\n",
    "n = 10 \n",
    "i = 10\n",
    "while i > 1:  # Added condition to exit the loop when i becomes 1\n",
    "    if i % 2 == 0:\n",
    "        i = i / 2\n",
    "    else: \n",
    "        i = i + 1\n",
    "\n",
    "print(\"Final value of i:\", i)\n"
   ]
  },
  {
   "cell_type": "markdown",
   "metadata": {},
   "source": [
    "This should illustrate the importance of code comments. In the same way that a lab book helps you remember your experimental details and results, code comments help you remember what you wanted the code to do when you wrote it."
   ]
  },
  {
   "cell_type": "markdown",
   "metadata": {},
   "source": [
    "# Iterations"
   ]
  },
  {
   "cell_type": "markdown",
   "metadata": {},
   "source": [
    "Q4 (Optional) \n",
    "\n",
    "This question is not mandatory and the concepts introduced will not be directly assessed in this course. They are however skills that are essential for solving computational problems efficiently and will help you get used to thinking about more complex code.\n",
    "\n",
    "We have introduced list's, loop's and list slicing. These problems will combine them and introduce a new concept called `computational complexity`. In general, the computational complexity of a piece of code describes the amount of resources needed to run it. It is usually measured by estimating or counting the number of elementary operations carried out. For these excerises, the elementary operation will be `comparisions`, ie, checking if a number is less than, equal too or greater than another number. "
   ]
  },
  {
   "cell_type": "markdown",
   "metadata": {},
   "source": [
    "Q4a. \n",
    "\n",
    "Lets first consider how to check if `A` is less than, equal to, or greater than number `B`. Both `A` and `B` are arbitary integers greater than zero. The code provided below will do this, however it contains some redundant code which you should remove"
   ]
  },
  {
   "cell_type": "code",
   "execution_count": null,
   "metadata": {},
   "outputs": [],
   "source": [
    "A = 20\n",
    "B = 50\n",
    "\n",
    "if A < B:\n",
    "    print('A is less than B')\n",
    "elif A > B:\n",
    "    print('A is greater than B')\n",
    "#elif A == B:                              #THIS HAS TO BE ELSE!\n",
    "    #print('A is equal to B')\n",
    "else:\n",
    "    print('A is equal to B')\n"
   ]
  },
  {
   "cell_type": "markdown",
   "metadata": {},
   "source": [
    "Q4b. \n",
    "\n",
    "Lets consider the number of comparisons needed to check if the number `target` appears in a very large list of numbers. Below is code for generating a list of random numbers. Write the simplest approach you can think of for solving this problem. Do not use the standard python code of `if target in list:`, instead you should write the all the code manually using loops and `if` statements. Count each comparison your code makes uusing the `comparison_counter` variable. If the target is in the list, add it to the list called `found_targets`. Think about whether it is a good idea to continue searching the list once the target has been found. Test your code by comparing your output to that of the `test_search` function and ensuring that they are the same. Take note of the number of comparisons your code needs, it should less than the length of the list of random numbers.\n",
    "\n",
    "After you have done this, play around with different values for `MAX_SIZE` and `MAX_TGT_VALUE`. What do you observe?"
   ]
  },
  {
   "cell_type": "code",
   "execution_count": null,
   "metadata": {},
   "outputs": [],
   "source": [
    "# My Answer: this function finds and returns the target elements that exist in the input list.\n",
    "def test_function(inp_list, tgts):\n",
    "    found_tgts = []\n",
    "    for tgt in tgts:\n",
    "        if tgt in inp_list:\n",
    "            found_tgts.append(tgt)\n",
    "    return found_tgts"
   ]
  },
  {
   "cell_type": "code",
   "execution_count": null,
   "metadata": {},
   "outputs": [],
   "source": [
    "import random\n",
    "\n",
    "MAX_SIZE = 10000000 # This is the maximum value of the numbers in the list\n",
    "MAX_TGT_VALUE = 10000000 # This is the maximum value of the target numbers\n",
    "LENGTH = 10000000 # This is the length of the list\n",
    "\n",
    "# Here we declare a list of random numbers and a list of random target numbers\n",
    "random_integers = [random.randint(0, MAX_SIZE) for i in range(LENGTH)]\n",
    "target_integers = [random.randint(0, MAX_TGT_VALUE) for i in range(10)]\n",
    "targets_found = []\n",
    "\n",
    "comparison_counter = 0\n",
    "...  # Your code here\n",
    "for target in target_integers:\n",
    "    found = False\n",
    "    for number in random_integers:\n",
    "        comparison_counter += 1\n",
    "        if number == target:\n",
    "            targets_found.append(target)\n",
    "            found = True\n",
    "            break  # Exit the loop if the target is found\n",
    "    # Optionally, if you don't want to continue searching once the target is found:\n",
    "    # if found:\n",
    "    #     break\n",
    "\n",
    "\n",
    "# Test your code\n",
    "assert targets_found == test_function(random_integers, target_integers)\n",
    "print(f'Your code worked! Average number of comparisons per search = {comparison_counter/len(target_integers)}')"
   ]
  },
  {
   "cell_type": "markdown",
   "metadata": {},
   "source": [
    "Q4c. \n",
    "\n",
    "Given your code, think about the following three scenarios. Assume that both the target integer and all values in the list are drawn randomly from a uniform distribution, bounded between `0` and `LENGTH`\n",
    "\n",
    "1. What is the smallest possible number of comparisons and when will this occur?\n",
    "\n",
    "2. What is the average number of comparisons, with respect to the length of the input list?\n",
    "\n",
    "3. What is the largest possible number of comparisons and when will this occur?"
   ]
  },
  {
   "cell_type": "markdown",
   "metadata": {},
   "source": [
    "## Binary Search\n",
    "\n",
    "For a list of `randomly ordered` numbers, the naive method of going through and checking each element until the target is found is actually the best approach possible. However if we have a very long list, or a list of strings where the comparison operation is costly this approach will take quite some time.\n",
    "\n",
    "To find a faster way of doing this, we must perform a trick such that the problem structure changes...  We take the approach of first sorting the list in any order. For this example, we will sort the list in ascending order. If you were to draw out the list in a line, the lowest valued element would be in the first position and the highest value element in the last position. This introduces a nice property that for all elements, all elements to the left of it have a lower value, and all element to the right have a higher value.\n",
    "\n",
    "Now we have this property, we can search the list exponentially faster. For an example, assume the integer `target` is in the list and we just need to find the *index* it occurs at. First, guess that the `target` element is in the middle of the list, if the `target` is less than the middle element's value, we know for certain it is in the left half. If `target` is greater than the middle element's value, we know it is in the right half. This quite neatly divides the problem in half. To continue the search, we take the half of the list we know `target` is in and just repeat the process.\n",
    "\n",
    "This general technique of repeatedly dividing a problem in two is called binary search. "
   ]
  },
  {
   "cell_type": "markdown",
   "metadata": {},
   "source": [
    "Q4d.\n",
    "\n",
    "Now, taking the approach above, answer the following questions. Assume that both the target integer and all values in the list are drawn randomly from a uniform distribution, bounded between `0` and `LENGTH`. To simplify the following questions, also assume that `LENGTH` is a power of two.\n",
    "1. What is the smallest possible number of comparisons and when will this occur?\n",
    "\n",
    "2. What is the largest possible number of comparisons and when will this occur?\n",
    "\n",
    "3. What is the average number of comparisons, with respect to the length of the input list? You do not need to provide an exact answer, just explain your reasoning and how you would calculate it. Consider the following relation and think about what fraction of all possible targets will require 1 comparison, how many will require 2 and so on. $$2^N = \\sum_{i=0}^{N-1} 2^i + 1$$\n"
   ]
  },
  {
   "cell_type": "markdown",
   "metadata": {},
   "source": [
    "Q4e.\n",
    "\n",
    "Using the code you previously wrote for dividing a list in two, implement a binary search and count the number of comparisons."
   ]
  },
  {
   "cell_type": "code",
   "execution_count": null,
   "metadata": {},
   "outputs": [],
   "source": [
    "MAX_SIZE = 10000000 # This is the maximum value of the numbers in the list\n",
    "MAX_TGT_VALUE = 10000000 # This is the maximum value of the target numbers\n",
    "LENGTH = 10000000 # This is the length of the list\n",
    "\n",
    "# Here we declare a list of random numbers and a list of random target numbers\n",
    "random_list = [random.randint(0, MAX_SIZE) for i in range(LENGTH)]\n",
    "sorted_list = sorted(random_list)\n",
    "target_integers = [random.randint(0, MAX_TGT_VALUE) for i in range(10)]\n",
    "targets_found = []\n"
   ]
  },
  {
   "cell_type": "code",
   "execution_count": null,
   "metadata": {},
   "outputs": [],
   "source": [
    "\n",
    "comparison_counter = 0\n",
    "\n",
    "# Iterate through our targets\n",
    "for target in target_integers:\n",
    "    # Create a copy of the list here to avoid overwriting the original list\n",
    "    temporary_list = sorted_list.copy()\n",
    "\n",
    "    ... # Your code here\n",
    "\n",
    "# Test your code\n",
    "assert targets_found == test_function(random_list, target_integers)\n",
    "print(f'Your code worked! Average number of comparisons per search = {comparison_counter/len(tgts)}')"
   ]
  },
  {
   "cell_type": "markdown",
   "metadata": {},
   "source": [
    "Congradulations if you got this far. You should find that binary search requires roughly 5 orders of magnitude fewer comparisons on average. It comes with a rather strong caveat that a given list must be sorted. While looking up integers can be done much more efficiently by simply storing them in dictionaries, the general tool of splitting problems in half repeatedly a very important concept in computer science."
   ]
  }
 ],
 "metadata": {
  "kernelspec": {
   "display_name": "Python 3 (ipykernel)",
   "language": "python",
   "name": "python3"
  },
  "language_info": {
   "codemirror_mode": {
    "name": "ipython",
    "version": 3
   },
   "file_extension": ".py",
   "mimetype": "text/x-python",
   "name": "python",
   "nbconvert_exporter": "python",
   "pygments_lexer": "ipython3",
   "version": "3.10.13"
  }
 },
 "nbformat": 4,
 "nbformat_minor": 4
}
